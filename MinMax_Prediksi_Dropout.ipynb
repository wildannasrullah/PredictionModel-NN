{
  "nbformat": 4,
  "nbformat_minor": 0,
  "metadata": {
    "colab": {
      "name": "MinMax_Prediksi_StudentDropout.ipynb",
      "provenance": [],
      "collapsed_sections": []
    },
    "kernelspec": {
      "name": "python3",
      "display_name": "Python 3"
    }
  },
  "cells": [
    {
      "cell_type": "code",
      "metadata": {
        "id": "LVUcuhbGWPHd"
      },
      "source": [
        "import numpy as np # used for handling numbers \n",
        "import pandas as pd # used for handling the dataset\n",
        "from sklearn.impute import SimpleImputer # used for handling missing data\n",
        "from sklearn.preprocessing import LabelEncoder, OneHotEncoder # used for encoding categorical data\n",
        "from sklearn.model_selection import train_test_split # used for splitting training and testing data\n",
        "#from sklearn.preprocessing import StandardScaler # used for feature scaling"
      ],
      "execution_count": null,
      "outputs": []
    },
    {
      "cell_type": "markdown",
      "metadata": {
        "id": "fhvOdvHsJV49"
      },
      "source": [
        "Load Dataset"
      ]
    },
    {
      "cell_type": "code",
      "metadata": {
        "id": "IsGdLYsvWeip"
      },
      "source": [
        "dataset = pd.read_csv('datamahasiswa_proses_2.csv', delimiter=\";\") # to import the dataset into a variable"
      ],
      "execution_count": null,
      "outputs": []
    },
    {
      "cell_type": "code",
      "metadata": {
        "colab": {
          "base_uri": "https://localhost:8080/",
          "height": 439
        },
        "id": "H8S4TnK85SR8",
        "outputId": "269c8d0f-ff1a-45fa-cf54-3b86c5db8ff3"
      },
      "source": [
        "dataset"
      ],
      "execution_count": null,
      "outputs": [
        {
          "output_type": "execute_result",
          "data": {
            "text/html": [
              "<div>\n",
              "<style scoped>\n",
              "    .dataframe tbody tr th:only-of-type {\n",
              "        vertical-align: middle;\n",
              "    }\n",
              "\n",
              "    .dataframe tbody tr th {\n",
              "        vertical-align: top;\n",
              "    }\n",
              "\n",
              "    .dataframe thead th {\n",
              "        text-align: right;\n",
              "    }\n",
              "</style>\n",
              "<table border=\"1\" class=\"dataframe\">\n",
              "  <thead>\n",
              "    <tr style=\"text-align: right;\">\n",
              "      <th></th>\n",
              "      <th>Alamat</th>\n",
              "      <th>PedidikanIbu</th>\n",
              "      <th>PendidikanBapak</th>\n",
              "      <th>PekerjaanIbu</th>\n",
              "      <th>PekerjaanBapak</th>\n",
              "      <th>Bekerja</th>\n",
              "      <th>LamaKuliah</th>\n",
              "      <th>SKSSemester</th>\n",
              "      <th>Keuangan</th>\n",
              "      <th>JumlahSKS</th>\n",
              "      <th>DataAbsen</th>\n",
              "      <th>NilaiTesMasuk</th>\n",
              "      <th>NilaiIPS</th>\n",
              "      <th>NilaiIPK</th>\n",
              "      <th>StatusDropout</th>\n",
              "    </tr>\n",
              "  </thead>\n",
              "  <tbody>\n",
              "    <tr>\n",
              "      <th>0</th>\n",
              "      <td>1</td>\n",
              "      <td>3</td>\n",
              "      <td>2</td>\n",
              "      <td>2</td>\n",
              "      <td>2</td>\n",
              "      <td>1</td>\n",
              "      <td>2</td>\n",
              "      <td>20</td>\n",
              "      <td>3</td>\n",
              "      <td>93</td>\n",
              "      <td>5</td>\n",
              "      <td>80</td>\n",
              "      <td>3.18</td>\n",
              "      <td>3.11</td>\n",
              "      <td>0</td>\n",
              "    </tr>\n",
              "    <tr>\n",
              "      <th>1</th>\n",
              "      <td>0</td>\n",
              "      <td>3</td>\n",
              "      <td>3</td>\n",
              "      <td>1</td>\n",
              "      <td>2</td>\n",
              "      <td>0</td>\n",
              "      <td>2</td>\n",
              "      <td>20</td>\n",
              "      <td>1</td>\n",
              "      <td>95</td>\n",
              "      <td>6</td>\n",
              "      <td>85</td>\n",
              "      <td>3.26</td>\n",
              "      <td>3.18</td>\n",
              "      <td>0</td>\n",
              "    </tr>\n",
              "    <tr>\n",
              "      <th>2</th>\n",
              "      <td>0</td>\n",
              "      <td>4</td>\n",
              "      <td>4</td>\n",
              "      <td>2</td>\n",
              "      <td>1</td>\n",
              "      <td>0</td>\n",
              "      <td>2</td>\n",
              "      <td>20</td>\n",
              "      <td>3</td>\n",
              "      <td>93</td>\n",
              "      <td>8</td>\n",
              "      <td>85</td>\n",
              "      <td>3.18</td>\n",
              "      <td>3.11</td>\n",
              "      <td>0</td>\n",
              "    </tr>\n",
              "    <tr>\n",
              "      <th>3</th>\n",
              "      <td>0</td>\n",
              "      <td>4</td>\n",
              "      <td>1</td>\n",
              "      <td>2</td>\n",
              "      <td>1</td>\n",
              "      <td>0</td>\n",
              "      <td>2</td>\n",
              "      <td>20</td>\n",
              "      <td>1</td>\n",
              "      <td>95</td>\n",
              "      <td>0</td>\n",
              "      <td>85</td>\n",
              "      <td>3.26</td>\n",
              "      <td>3.19</td>\n",
              "      <td>0</td>\n",
              "    </tr>\n",
              "    <tr>\n",
              "      <th>4</th>\n",
              "      <td>0</td>\n",
              "      <td>3</td>\n",
              "      <td>4</td>\n",
              "      <td>1</td>\n",
              "      <td>3</td>\n",
              "      <td>0</td>\n",
              "      <td>2</td>\n",
              "      <td>20</td>\n",
              "      <td>1</td>\n",
              "      <td>80</td>\n",
              "      <td>8</td>\n",
              "      <td>80</td>\n",
              "      <td>3.10</td>\n",
              "      <td>3.06</td>\n",
              "      <td>0</td>\n",
              "    </tr>\n",
              "    <tr>\n",
              "      <th>...</th>\n",
              "      <td>...</td>\n",
              "      <td>...</td>\n",
              "      <td>...</td>\n",
              "      <td>...</td>\n",
              "      <td>...</td>\n",
              "      <td>...</td>\n",
              "      <td>...</td>\n",
              "      <td>...</td>\n",
              "      <td>...</td>\n",
              "      <td>...</td>\n",
              "      <td>...</td>\n",
              "      <td>...</td>\n",
              "      <td>...</td>\n",
              "      <td>...</td>\n",
              "      <td>...</td>\n",
              "    </tr>\n",
              "    <tr>\n",
              "      <th>935</th>\n",
              "      <td>0</td>\n",
              "      <td>1</td>\n",
              "      <td>1</td>\n",
              "      <td>1</td>\n",
              "      <td>1</td>\n",
              "      <td>0</td>\n",
              "      <td>3</td>\n",
              "      <td>20</td>\n",
              "      <td>2</td>\n",
              "      <td>108</td>\n",
              "      <td>2</td>\n",
              "      <td>85</td>\n",
              "      <td>4.00</td>\n",
              "      <td>3.83</td>\n",
              "      <td>2</td>\n",
              "    </tr>\n",
              "    <tr>\n",
              "      <th>936</th>\n",
              "      <td>0</td>\n",
              "      <td>2</td>\n",
              "      <td>1</td>\n",
              "      <td>4</td>\n",
              "      <td>1</td>\n",
              "      <td>0</td>\n",
              "      <td>3</td>\n",
              "      <td>20</td>\n",
              "      <td>2</td>\n",
              "      <td>108</td>\n",
              "      <td>0</td>\n",
              "      <td>80</td>\n",
              "      <td>4.00</td>\n",
              "      <td>3.83</td>\n",
              "      <td>2</td>\n",
              "    </tr>\n",
              "    <tr>\n",
              "      <th>937</th>\n",
              "      <td>0</td>\n",
              "      <td>2</td>\n",
              "      <td>4</td>\n",
              "      <td>1</td>\n",
              "      <td>2</td>\n",
              "      <td>0</td>\n",
              "      <td>3</td>\n",
              "      <td>20</td>\n",
              "      <td>2</td>\n",
              "      <td>108</td>\n",
              "      <td>0</td>\n",
              "      <td>85</td>\n",
              "      <td>4.00</td>\n",
              "      <td>3.85</td>\n",
              "      <td>2</td>\n",
              "    </tr>\n",
              "    <tr>\n",
              "      <th>938</th>\n",
              "      <td>0</td>\n",
              "      <td>2</td>\n",
              "      <td>1</td>\n",
              "      <td>1</td>\n",
              "      <td>2</td>\n",
              "      <td>0</td>\n",
              "      <td>3</td>\n",
              "      <td>20</td>\n",
              "      <td>2</td>\n",
              "      <td>108</td>\n",
              "      <td>0</td>\n",
              "      <td>80</td>\n",
              "      <td>4.00</td>\n",
              "      <td>3.85</td>\n",
              "      <td>2</td>\n",
              "    </tr>\n",
              "    <tr>\n",
              "      <th>939</th>\n",
              "      <td>0</td>\n",
              "      <td>4</td>\n",
              "      <td>4</td>\n",
              "      <td>1</td>\n",
              "      <td>2</td>\n",
              "      <td>0</td>\n",
              "      <td>3</td>\n",
              "      <td>20</td>\n",
              "      <td>2</td>\n",
              "      <td>108</td>\n",
              "      <td>0</td>\n",
              "      <td>85</td>\n",
              "      <td>4.00</td>\n",
              "      <td>3.84</td>\n",
              "      <td>2</td>\n",
              "    </tr>\n",
              "  </tbody>\n",
              "</table>\n",
              "<p>940 rows × 15 columns</p>\n",
              "</div>"
            ],
            "text/plain": [
              "     Alamat  PedidikanIbu  PendidikanBapak  ...  NilaiIPS  NilaiIPK  StatusDropout\n",
              "0         1             3                2  ...      3.18      3.11              0\n",
              "1         0             3                3  ...      3.26      3.18              0\n",
              "2         0             4                4  ...      3.18      3.11              0\n",
              "3         0             4                1  ...      3.26      3.19              0\n",
              "4         0             3                4  ...      3.10      3.06              0\n",
              "..      ...           ...              ...  ...       ...       ...            ...\n",
              "935       0             1                1  ...      4.00      3.83              2\n",
              "936       0             2                1  ...      4.00      3.83              2\n",
              "937       0             2                4  ...      4.00      3.85              2\n",
              "938       0             2                1  ...      4.00      3.85              2\n",
              "939       0             4                4  ...      4.00      3.84              2\n",
              "\n",
              "[940 rows x 15 columns]"
            ]
          },
          "metadata": {
            "tags": []
          },
          "execution_count": 3
        }
      ]
    },
    {
      "cell_type": "code",
      "metadata": {
        "id": "nCqVyYXE5Hzh"
      },
      "source": [
        "# Splitting the attributes into independent and dependent attributes\n",
        "dataset = dataset.to_numpy() # ubah pd.Daraframe menjadi array numpy\n",
        "X = dataset[:, 0:14] # Which contains the features\n",
        "y = dataset[:, 14] # Which contains the target variable"
      ],
      "execution_count": null,
      "outputs": []
    },
    {
      "cell_type": "markdown",
      "metadata": {
        "id": "kLA-mrcuJSzE"
      },
      "source": [
        "Missing Value (Mean)"
      ]
    },
    {
      "cell_type": "code",
      "metadata": {
        "id": "fJHiGgxlWkMQ"
      },
      "source": [
        "# handling the missing data and replace missing values with nan from numpy and replace with mean of all the other values\n",
        "imputer = SimpleImputer(missing_values=np.nan, strategy='mean') \n",
        "imputer = imputer.fit(X[:, 0:])\n",
        "X[:, 0:] = imputer.transform(X[:, 0:])"
      ],
      "execution_count": null,
      "outputs": []
    },
    {
      "cell_type": "code",
      "metadata": {
        "colab": {
          "base_uri": "https://localhost:8080/"
        },
        "id": "2aGy4U4Rfchz",
        "outputId": "f4aad9b2-394b-4a55-b608-58da3b61491b"
      },
      "source": [
        "X"
      ],
      "execution_count": null,
      "outputs": [
        {
          "output_type": "execute_result",
          "data": {
            "text/plain": [
              "array([[ 1.  ,  3.  ,  2.  , ..., 80.  ,  3.18,  3.11],\n",
              "       [ 0.  ,  3.  ,  3.  , ..., 85.  ,  3.26,  3.18],\n",
              "       [ 0.  ,  4.  ,  4.  , ..., 85.  ,  3.18,  3.11],\n",
              "       ...,\n",
              "       [ 0.  ,  2.  ,  4.  , ..., 85.  ,  4.  ,  3.85],\n",
              "       [ 0.  ,  2.  ,  1.  , ..., 80.  ,  4.  ,  3.85],\n",
              "       [ 0.  ,  4.  ,  4.  , ..., 85.  ,  4.  ,  3.84]])"
            ]
          },
          "metadata": {
            "tags": []
          },
          "execution_count": 6
        }
      ]
    },
    {
      "cell_type": "code",
      "metadata": {
        "id": "Kk4V1kmm4pEK"
      },
      "source": [
        "X = pd.DataFrame(data=X,  columns= ['Alamat','PendidikanIbu','PendidikanBapak','PekerjaanIbu','PekerjaanBapak',\n",
        "                 'Bekerja','LamaKuliah','SKSSemester','Keuangan','JumlahSKS',\n",
        "                 'DataAbsen','NilaiTesMasuk','NilaiIPS','NilaiIPK'])"
      ],
      "execution_count": null,
      "outputs": []
    },
    {
      "cell_type": "code",
      "metadata": {
        "colab": {
          "base_uri": "https://localhost:8080/",
          "height": 439
        },
        "id": "1qRCsNtD270T",
        "outputId": "9e4a4708-4c04-41a5-8e51-c2a17c836b89"
      },
      "source": [
        "X"
      ],
      "execution_count": null,
      "outputs": [
        {
          "output_type": "execute_result",
          "data": {
            "text/html": [
              "<div>\n",
              "<style scoped>\n",
              "    .dataframe tbody tr th:only-of-type {\n",
              "        vertical-align: middle;\n",
              "    }\n",
              "\n",
              "    .dataframe tbody tr th {\n",
              "        vertical-align: top;\n",
              "    }\n",
              "\n",
              "    .dataframe thead th {\n",
              "        text-align: right;\n",
              "    }\n",
              "</style>\n",
              "<table border=\"1\" class=\"dataframe\">\n",
              "  <thead>\n",
              "    <tr style=\"text-align: right;\">\n",
              "      <th></th>\n",
              "      <th>Alamat</th>\n",
              "      <th>PendidikanIbu</th>\n",
              "      <th>PendidikanBapak</th>\n",
              "      <th>PekerjaanIbu</th>\n",
              "      <th>PekerjaanBapak</th>\n",
              "      <th>Bekerja</th>\n",
              "      <th>LamaKuliah</th>\n",
              "      <th>SKSSemester</th>\n",
              "      <th>Keuangan</th>\n",
              "      <th>JumlahSKS</th>\n",
              "      <th>DataAbsen</th>\n",
              "      <th>NilaiTesMasuk</th>\n",
              "      <th>NilaiIPS</th>\n",
              "      <th>NilaiIPK</th>\n",
              "    </tr>\n",
              "  </thead>\n",
              "  <tbody>\n",
              "    <tr>\n",
              "      <th>0</th>\n",
              "      <td>1.0</td>\n",
              "      <td>3.0</td>\n",
              "      <td>2.0</td>\n",
              "      <td>2.0</td>\n",
              "      <td>2.0</td>\n",
              "      <td>1.0</td>\n",
              "      <td>2.0</td>\n",
              "      <td>20.0</td>\n",
              "      <td>3.0</td>\n",
              "      <td>93.0</td>\n",
              "      <td>5.0</td>\n",
              "      <td>80.0</td>\n",
              "      <td>3.18</td>\n",
              "      <td>3.11</td>\n",
              "    </tr>\n",
              "    <tr>\n",
              "      <th>1</th>\n",
              "      <td>0.0</td>\n",
              "      <td>3.0</td>\n",
              "      <td>3.0</td>\n",
              "      <td>1.0</td>\n",
              "      <td>2.0</td>\n",
              "      <td>0.0</td>\n",
              "      <td>2.0</td>\n",
              "      <td>20.0</td>\n",
              "      <td>1.0</td>\n",
              "      <td>95.0</td>\n",
              "      <td>6.0</td>\n",
              "      <td>85.0</td>\n",
              "      <td>3.26</td>\n",
              "      <td>3.18</td>\n",
              "    </tr>\n",
              "    <tr>\n",
              "      <th>2</th>\n",
              "      <td>0.0</td>\n",
              "      <td>4.0</td>\n",
              "      <td>4.0</td>\n",
              "      <td>2.0</td>\n",
              "      <td>1.0</td>\n",
              "      <td>0.0</td>\n",
              "      <td>2.0</td>\n",
              "      <td>20.0</td>\n",
              "      <td>3.0</td>\n",
              "      <td>93.0</td>\n",
              "      <td>8.0</td>\n",
              "      <td>85.0</td>\n",
              "      <td>3.18</td>\n",
              "      <td>3.11</td>\n",
              "    </tr>\n",
              "    <tr>\n",
              "      <th>3</th>\n",
              "      <td>0.0</td>\n",
              "      <td>4.0</td>\n",
              "      <td>1.0</td>\n",
              "      <td>2.0</td>\n",
              "      <td>1.0</td>\n",
              "      <td>0.0</td>\n",
              "      <td>2.0</td>\n",
              "      <td>20.0</td>\n",
              "      <td>1.0</td>\n",
              "      <td>95.0</td>\n",
              "      <td>0.0</td>\n",
              "      <td>85.0</td>\n",
              "      <td>3.26</td>\n",
              "      <td>3.19</td>\n",
              "    </tr>\n",
              "    <tr>\n",
              "      <th>4</th>\n",
              "      <td>0.0</td>\n",
              "      <td>3.0</td>\n",
              "      <td>4.0</td>\n",
              "      <td>1.0</td>\n",
              "      <td>3.0</td>\n",
              "      <td>0.0</td>\n",
              "      <td>2.0</td>\n",
              "      <td>20.0</td>\n",
              "      <td>1.0</td>\n",
              "      <td>80.0</td>\n",
              "      <td>8.0</td>\n",
              "      <td>80.0</td>\n",
              "      <td>3.10</td>\n",
              "      <td>3.06</td>\n",
              "    </tr>\n",
              "    <tr>\n",
              "      <th>...</th>\n",
              "      <td>...</td>\n",
              "      <td>...</td>\n",
              "      <td>...</td>\n",
              "      <td>...</td>\n",
              "      <td>...</td>\n",
              "      <td>...</td>\n",
              "      <td>...</td>\n",
              "      <td>...</td>\n",
              "      <td>...</td>\n",
              "      <td>...</td>\n",
              "      <td>...</td>\n",
              "      <td>...</td>\n",
              "      <td>...</td>\n",
              "      <td>...</td>\n",
              "    </tr>\n",
              "    <tr>\n",
              "      <th>935</th>\n",
              "      <td>0.0</td>\n",
              "      <td>1.0</td>\n",
              "      <td>1.0</td>\n",
              "      <td>1.0</td>\n",
              "      <td>1.0</td>\n",
              "      <td>0.0</td>\n",
              "      <td>3.0</td>\n",
              "      <td>20.0</td>\n",
              "      <td>2.0</td>\n",
              "      <td>108.0</td>\n",
              "      <td>2.0</td>\n",
              "      <td>85.0</td>\n",
              "      <td>4.00</td>\n",
              "      <td>3.83</td>\n",
              "    </tr>\n",
              "    <tr>\n",
              "      <th>936</th>\n",
              "      <td>0.0</td>\n",
              "      <td>2.0</td>\n",
              "      <td>1.0</td>\n",
              "      <td>4.0</td>\n",
              "      <td>1.0</td>\n",
              "      <td>0.0</td>\n",
              "      <td>3.0</td>\n",
              "      <td>20.0</td>\n",
              "      <td>2.0</td>\n",
              "      <td>108.0</td>\n",
              "      <td>0.0</td>\n",
              "      <td>80.0</td>\n",
              "      <td>4.00</td>\n",
              "      <td>3.83</td>\n",
              "    </tr>\n",
              "    <tr>\n",
              "      <th>937</th>\n",
              "      <td>0.0</td>\n",
              "      <td>2.0</td>\n",
              "      <td>4.0</td>\n",
              "      <td>1.0</td>\n",
              "      <td>2.0</td>\n",
              "      <td>0.0</td>\n",
              "      <td>3.0</td>\n",
              "      <td>20.0</td>\n",
              "      <td>2.0</td>\n",
              "      <td>108.0</td>\n",
              "      <td>0.0</td>\n",
              "      <td>85.0</td>\n",
              "      <td>4.00</td>\n",
              "      <td>3.85</td>\n",
              "    </tr>\n",
              "    <tr>\n",
              "      <th>938</th>\n",
              "      <td>0.0</td>\n",
              "      <td>2.0</td>\n",
              "      <td>1.0</td>\n",
              "      <td>1.0</td>\n",
              "      <td>2.0</td>\n",
              "      <td>0.0</td>\n",
              "      <td>3.0</td>\n",
              "      <td>20.0</td>\n",
              "      <td>2.0</td>\n",
              "      <td>108.0</td>\n",
              "      <td>0.0</td>\n",
              "      <td>80.0</td>\n",
              "      <td>4.00</td>\n",
              "      <td>3.85</td>\n",
              "    </tr>\n",
              "    <tr>\n",
              "      <th>939</th>\n",
              "      <td>0.0</td>\n",
              "      <td>4.0</td>\n",
              "      <td>4.0</td>\n",
              "      <td>1.0</td>\n",
              "      <td>2.0</td>\n",
              "      <td>0.0</td>\n",
              "      <td>3.0</td>\n",
              "      <td>20.0</td>\n",
              "      <td>2.0</td>\n",
              "      <td>108.0</td>\n",
              "      <td>0.0</td>\n",
              "      <td>85.0</td>\n",
              "      <td>4.00</td>\n",
              "      <td>3.84</td>\n",
              "    </tr>\n",
              "  </tbody>\n",
              "</table>\n",
              "<p>940 rows × 14 columns</p>\n",
              "</div>"
            ],
            "text/plain": [
              "     Alamat  PendidikanIbu  PendidikanBapak  ...  NilaiTesMasuk  NilaiIPS  NilaiIPK\n",
              "0       1.0            3.0              2.0  ...           80.0      3.18      3.11\n",
              "1       0.0            3.0              3.0  ...           85.0      3.26      3.18\n",
              "2       0.0            4.0              4.0  ...           85.0      3.18      3.11\n",
              "3       0.0            4.0              1.0  ...           85.0      3.26      3.19\n",
              "4       0.0            3.0              4.0  ...           80.0      3.10      3.06\n",
              "..      ...            ...              ...  ...            ...       ...       ...\n",
              "935     0.0            1.0              1.0  ...           85.0      4.00      3.83\n",
              "936     0.0            2.0              1.0  ...           80.0      4.00      3.83\n",
              "937     0.0            2.0              4.0  ...           85.0      4.00      3.85\n",
              "938     0.0            2.0              1.0  ...           80.0      4.00      3.85\n",
              "939     0.0            4.0              4.0  ...           85.0      4.00      3.84\n",
              "\n",
              "[940 rows x 14 columns]"
            ]
          },
          "metadata": {
            "tags": []
          },
          "execution_count": 8
        }
      ]
    },
    {
      "cell_type": "markdown",
      "metadata": {
        "id": "YrN0jcuyhlL9"
      },
      "source": [
        "Min-Max Normalization"
      ]
    },
    {
      "cell_type": "code",
      "metadata": {
        "colab": {
          "base_uri": "https://localhost:8080/"
        },
        "id": "EI4_HblRhp4q",
        "outputId": "6f5c8d2c-2c77-4558-f233-4c99df324313"
      },
      "source": [
        "from sklearn.preprocessing import MinMaxScaler\n",
        "scaler = MinMaxScaler()\n",
        "X = scaler.fit_transform(X)\n",
        "print(X)"
      ],
      "execution_count": null,
      "outputs": [
        {
          "output_type": "stream",
          "text": [
            "[[1.         0.75       0.5        ... 0.25       0.795      0.58064516]\n",
            " [0.         0.75       0.75       ... 0.5        0.815      0.61827957]\n",
            " [0.         1.         1.         ... 0.5        0.795      0.58064516]\n",
            " ...\n",
            " [0.         0.5        1.         ... 0.5        1.         0.97849462]\n",
            " [0.         0.5        0.25       ... 0.25       1.         0.97849462]\n",
            " [0.         1.         1.         ... 0.5        1.         0.97311828]]\n"
          ],
          "name": "stdout"
        }
      ]
    },
    {
      "cell_type": "code",
      "metadata": {
        "id": "4F40nXjKHiMG"
      },
      "source": [
        "X = pd.DataFrame(data=X, columns= ['Alamat','PendidikanIbu','PendidikanBapak','PekerjaanIbu','PekerjaanBapak',\n",
        "                 'Bekerja','LamaKuliah','SKSSemester','Keuangan','JumlahSKS',\n",
        "                 'DataAbsen','NilaiTesMasuk','NilaiIPS','NilaiIPK'])"
      ],
      "execution_count": null,
      "outputs": []
    },
    {
      "cell_type": "code",
      "metadata": {
        "colab": {
          "base_uri": "https://localhost:8080/",
          "height": 439
        },
        "id": "e7phivLxHwPH",
        "outputId": "c03d7dbf-085f-4a4a-9df2-5463ccbfa013"
      },
      "source": [
        "X"
      ],
      "execution_count": null,
      "outputs": [
        {
          "output_type": "execute_result",
          "data": {
            "text/html": [
              "<div>\n",
              "<style scoped>\n",
              "    .dataframe tbody tr th:only-of-type {\n",
              "        vertical-align: middle;\n",
              "    }\n",
              "\n",
              "    .dataframe tbody tr th {\n",
              "        vertical-align: top;\n",
              "    }\n",
              "\n",
              "    .dataframe thead th {\n",
              "        text-align: right;\n",
              "    }\n",
              "</style>\n",
              "<table border=\"1\" class=\"dataframe\">\n",
              "  <thead>\n",
              "    <tr style=\"text-align: right;\">\n",
              "      <th></th>\n",
              "      <th>Alamat</th>\n",
              "      <th>PendidikanIbu</th>\n",
              "      <th>PendidikanBapak</th>\n",
              "      <th>PekerjaanIbu</th>\n",
              "      <th>PekerjaanBapak</th>\n",
              "      <th>Bekerja</th>\n",
              "      <th>LamaKuliah</th>\n",
              "      <th>SKSSemester</th>\n",
              "      <th>Keuangan</th>\n",
              "      <th>JumlahSKS</th>\n",
              "      <th>DataAbsen</th>\n",
              "      <th>NilaiTesMasuk</th>\n",
              "      <th>NilaiIPS</th>\n",
              "      <th>NilaiIPK</th>\n",
              "    </tr>\n",
              "  </thead>\n",
              "  <tbody>\n",
              "    <tr>\n",
              "      <th>0</th>\n",
              "      <td>1.0</td>\n",
              "      <td>0.75</td>\n",
              "      <td>0.50</td>\n",
              "      <td>0.333333</td>\n",
              "      <td>0.333333</td>\n",
              "      <td>1.0</td>\n",
              "      <td>0.5</td>\n",
              "      <td>0.869565</td>\n",
              "      <td>1.0</td>\n",
              "      <td>0.772727</td>\n",
              "      <td>0.625</td>\n",
              "      <td>0.25</td>\n",
              "      <td>0.795</td>\n",
              "      <td>0.580645</td>\n",
              "    </tr>\n",
              "    <tr>\n",
              "      <th>1</th>\n",
              "      <td>0.0</td>\n",
              "      <td>0.75</td>\n",
              "      <td>0.75</td>\n",
              "      <td>0.000000</td>\n",
              "      <td>0.333333</td>\n",
              "      <td>0.0</td>\n",
              "      <td>0.5</td>\n",
              "      <td>0.869565</td>\n",
              "      <td>0.0</td>\n",
              "      <td>0.803030</td>\n",
              "      <td>0.750</td>\n",
              "      <td>0.50</td>\n",
              "      <td>0.815</td>\n",
              "      <td>0.618280</td>\n",
              "    </tr>\n",
              "    <tr>\n",
              "      <th>2</th>\n",
              "      <td>0.0</td>\n",
              "      <td>1.00</td>\n",
              "      <td>1.00</td>\n",
              "      <td>0.333333</td>\n",
              "      <td>0.000000</td>\n",
              "      <td>0.0</td>\n",
              "      <td>0.5</td>\n",
              "      <td>0.869565</td>\n",
              "      <td>1.0</td>\n",
              "      <td>0.772727</td>\n",
              "      <td>1.000</td>\n",
              "      <td>0.50</td>\n",
              "      <td>0.795</td>\n",
              "      <td>0.580645</td>\n",
              "    </tr>\n",
              "    <tr>\n",
              "      <th>3</th>\n",
              "      <td>0.0</td>\n",
              "      <td>1.00</td>\n",
              "      <td>0.25</td>\n",
              "      <td>0.333333</td>\n",
              "      <td>0.000000</td>\n",
              "      <td>0.0</td>\n",
              "      <td>0.5</td>\n",
              "      <td>0.869565</td>\n",
              "      <td>0.0</td>\n",
              "      <td>0.803030</td>\n",
              "      <td>0.000</td>\n",
              "      <td>0.50</td>\n",
              "      <td>0.815</td>\n",
              "      <td>0.623656</td>\n",
              "    </tr>\n",
              "    <tr>\n",
              "      <th>4</th>\n",
              "      <td>0.0</td>\n",
              "      <td>0.75</td>\n",
              "      <td>1.00</td>\n",
              "      <td>0.000000</td>\n",
              "      <td>0.666667</td>\n",
              "      <td>0.0</td>\n",
              "      <td>0.5</td>\n",
              "      <td>0.869565</td>\n",
              "      <td>0.0</td>\n",
              "      <td>0.575758</td>\n",
              "      <td>1.000</td>\n",
              "      <td>0.25</td>\n",
              "      <td>0.775</td>\n",
              "      <td>0.553763</td>\n",
              "    </tr>\n",
              "    <tr>\n",
              "      <th>...</th>\n",
              "      <td>...</td>\n",
              "      <td>...</td>\n",
              "      <td>...</td>\n",
              "      <td>...</td>\n",
              "      <td>...</td>\n",
              "      <td>...</td>\n",
              "      <td>...</td>\n",
              "      <td>...</td>\n",
              "      <td>...</td>\n",
              "      <td>...</td>\n",
              "      <td>...</td>\n",
              "      <td>...</td>\n",
              "      <td>...</td>\n",
              "      <td>...</td>\n",
              "    </tr>\n",
              "    <tr>\n",
              "      <th>935</th>\n",
              "      <td>0.0</td>\n",
              "      <td>0.25</td>\n",
              "      <td>0.25</td>\n",
              "      <td>0.000000</td>\n",
              "      <td>0.000000</td>\n",
              "      <td>0.0</td>\n",
              "      <td>1.0</td>\n",
              "      <td>0.869565</td>\n",
              "      <td>0.5</td>\n",
              "      <td>1.000000</td>\n",
              "      <td>0.250</td>\n",
              "      <td>0.50</td>\n",
              "      <td>1.000</td>\n",
              "      <td>0.967742</td>\n",
              "    </tr>\n",
              "    <tr>\n",
              "      <th>936</th>\n",
              "      <td>0.0</td>\n",
              "      <td>0.50</td>\n",
              "      <td>0.25</td>\n",
              "      <td>1.000000</td>\n",
              "      <td>0.000000</td>\n",
              "      <td>0.0</td>\n",
              "      <td>1.0</td>\n",
              "      <td>0.869565</td>\n",
              "      <td>0.5</td>\n",
              "      <td>1.000000</td>\n",
              "      <td>0.000</td>\n",
              "      <td>0.25</td>\n",
              "      <td>1.000</td>\n",
              "      <td>0.967742</td>\n",
              "    </tr>\n",
              "    <tr>\n",
              "      <th>937</th>\n",
              "      <td>0.0</td>\n",
              "      <td>0.50</td>\n",
              "      <td>1.00</td>\n",
              "      <td>0.000000</td>\n",
              "      <td>0.333333</td>\n",
              "      <td>0.0</td>\n",
              "      <td>1.0</td>\n",
              "      <td>0.869565</td>\n",
              "      <td>0.5</td>\n",
              "      <td>1.000000</td>\n",
              "      <td>0.000</td>\n",
              "      <td>0.50</td>\n",
              "      <td>1.000</td>\n",
              "      <td>0.978495</td>\n",
              "    </tr>\n",
              "    <tr>\n",
              "      <th>938</th>\n",
              "      <td>0.0</td>\n",
              "      <td>0.50</td>\n",
              "      <td>0.25</td>\n",
              "      <td>0.000000</td>\n",
              "      <td>0.333333</td>\n",
              "      <td>0.0</td>\n",
              "      <td>1.0</td>\n",
              "      <td>0.869565</td>\n",
              "      <td>0.5</td>\n",
              "      <td>1.000000</td>\n",
              "      <td>0.000</td>\n",
              "      <td>0.25</td>\n",
              "      <td>1.000</td>\n",
              "      <td>0.978495</td>\n",
              "    </tr>\n",
              "    <tr>\n",
              "      <th>939</th>\n",
              "      <td>0.0</td>\n",
              "      <td>1.00</td>\n",
              "      <td>1.00</td>\n",
              "      <td>0.000000</td>\n",
              "      <td>0.333333</td>\n",
              "      <td>0.0</td>\n",
              "      <td>1.0</td>\n",
              "      <td>0.869565</td>\n",
              "      <td>0.5</td>\n",
              "      <td>1.000000</td>\n",
              "      <td>0.000</td>\n",
              "      <td>0.50</td>\n",
              "      <td>1.000</td>\n",
              "      <td>0.973118</td>\n",
              "    </tr>\n",
              "  </tbody>\n",
              "</table>\n",
              "<p>940 rows × 14 columns</p>\n",
              "</div>"
            ],
            "text/plain": [
              "     Alamat  PendidikanIbu  PendidikanBapak  ...  NilaiTesMasuk  NilaiIPS  NilaiIPK\n",
              "0       1.0           0.75             0.50  ...           0.25     0.795  0.580645\n",
              "1       0.0           0.75             0.75  ...           0.50     0.815  0.618280\n",
              "2       0.0           1.00             1.00  ...           0.50     0.795  0.580645\n",
              "3       0.0           1.00             0.25  ...           0.50     0.815  0.623656\n",
              "4       0.0           0.75             1.00  ...           0.25     0.775  0.553763\n",
              "..      ...            ...              ...  ...            ...       ...       ...\n",
              "935     0.0           0.25             0.25  ...           0.50     1.000  0.967742\n",
              "936     0.0           0.50             0.25  ...           0.25     1.000  0.967742\n",
              "937     0.0           0.50             1.00  ...           0.50     1.000  0.978495\n",
              "938     0.0           0.50             0.25  ...           0.25     1.000  0.978495\n",
              "939     0.0           1.00             1.00  ...           0.50     1.000  0.973118\n",
              "\n",
              "[940 rows x 14 columns]"
            ]
          },
          "metadata": {
            "tags": []
          },
          "execution_count": 11
        }
      ]
    },
    {
      "cell_type": "markdown",
      "metadata": {
        "id": "bG4gsUBuJM3p"
      },
      "source": [
        "Information Gain"
      ]
    },
    {
      "cell_type": "code",
      "metadata": {
        "colab": {
          "base_uri": "https://localhost:8080/"
        },
        "id": "VNiYiGyi3tDt",
        "outputId": "ab8f6cef-14fb-4b1c-dd62-a93998a3f066"
      },
      "source": [
        "from sklearn.feature_selection import mutual_info_classif\n",
        "threshold = 8  # the number of most relevant features #Revisi : (menggunakan rangking nilai information gain )\n",
        "high_score_features = []\n",
        "feature_scores = mutual_info_classif(X, y, random_state=0)\n",
        "for score, f_name in sorted(zip(feature_scores, X.columns), reverse=True)[:threshold]:\n",
        "        print(f_name, score)\n",
        "        high_score_features.append(f_name)\n",
        "X = X[high_score_features]\n",
        "print(X)"
      ],
      "execution_count": null,
      "outputs": [
        {
          "output_type": "stream",
          "text": [
            "NilaiIPS 0.9347252748669964\n",
            "NilaiIPK 0.931673469242137\n",
            "JumlahSKS 0.3901146666293527\n",
            "Keuangan 0.33235344938115086\n",
            "LamaKuliah 0.3038692563009264\n",
            "SKSSemester 0.12156733507460271\n",
            "NilaiTesMasuk 0.06005184160934052\n",
            "PendidikanBapak 0.028895089771626692\n",
            "     NilaiIPS  NilaiIPK  JumlahSKS  ...  SKSSemester  NilaiTesMasuk  PendidikanBapak\n",
            "0       0.795  0.580645   0.772727  ...     0.869565           0.25             0.50\n",
            "1       0.815  0.618280   0.803030  ...     0.869565           0.50             0.75\n",
            "2       0.795  0.580645   0.772727  ...     0.869565           0.50             1.00\n",
            "3       0.815  0.623656   0.803030  ...     0.869565           0.50             0.25\n",
            "4       0.775  0.553763   0.575758  ...     0.869565           0.25             1.00\n",
            "..        ...       ...        ...  ...          ...            ...              ...\n",
            "935     1.000  0.967742   1.000000  ...     0.869565           0.50             0.25\n",
            "936     1.000  0.967742   1.000000  ...     0.869565           0.25             0.25\n",
            "937     1.000  0.978495   1.000000  ...     0.869565           0.50             1.00\n",
            "938     1.000  0.978495   1.000000  ...     0.869565           0.25             0.25\n",
            "939     1.000  0.973118   1.000000  ...     0.869565           0.50             1.00\n",
            "\n",
            "[940 rows x 8 columns]\n"
          ],
          "name": "stdout"
        }
      ]
    },
    {
      "cell_type": "code",
      "metadata": {
        "colab": {
          "base_uri": "https://localhost:8080/"
        },
        "id": "wNFkDOrm0Uyc",
        "outputId": "ddbfc442-ac19-4179-c0ed-e035e02a2f79"
      },
      "source": [
        "X=np.array(X)\n",
        "X"
      ],
      "execution_count": null,
      "outputs": [
        {
          "output_type": "execute_result",
          "data": {
            "text/plain": [
              "array([[0.795     , 0.58064516, 0.77272727, ..., 0.86956522, 0.25      ,\n",
              "        0.5       ],\n",
              "       [0.815     , 0.61827957, 0.8030303 , ..., 0.86956522, 0.5       ,\n",
              "        0.75      ],\n",
              "       [0.795     , 0.58064516, 0.77272727, ..., 0.86956522, 0.5       ,\n",
              "        1.        ],\n",
              "       ...,\n",
              "       [1.        , 0.97849462, 1.        , ..., 0.86956522, 0.5       ,\n",
              "        1.        ],\n",
              "       [1.        , 0.97849462, 1.        , ..., 0.86956522, 0.25      ,\n",
              "        0.25      ],\n",
              "       [1.        , 0.97311828, 1.        , ..., 0.86956522, 0.5       ,\n",
              "        1.        ]])"
            ]
          },
          "metadata": {
            "tags": []
          },
          "execution_count": 13
        }
      ]
    },
    {
      "cell_type": "code",
      "metadata": {
        "id": "RPhOyiahZGw5"
      },
      "source": [
        "y = y.reshape(-1, 1)\n",
        "\n",
        "from sklearn.preprocessing import OneHotEncoder\n",
        "ohe = OneHotEncoder()\n",
        "y = ohe.fit_transform(y).toarray()\n",
        "\n",
        "#y = pd.DataFrame.from_records(y)"
      ],
      "execution_count": null,
      "outputs": []
    },
    {
      "cell_type": "code",
      "metadata": {
        "colab": {
          "base_uri": "https://localhost:8080/"
        },
        "id": "IFLqAkHN6zm4",
        "outputId": "a8091d6f-5442-43a5-fb63-1bbb702548fe"
      },
      "source": [
        "y"
      ],
      "execution_count": null,
      "outputs": [
        {
          "output_type": "execute_result",
          "data": {
            "text/plain": [
              "array([[1., 0., 0.],\n",
              "       [1., 0., 0.],\n",
              "       [1., 0., 0.],\n",
              "       ...,\n",
              "       [0., 0., 1.],\n",
              "       [0., 0., 1.],\n",
              "       [0., 0., 1.]])"
            ]
          },
          "metadata": {
            "tags": []
          },
          "execution_count": 15
        }
      ]
    },
    {
      "cell_type": "markdown",
      "metadata": {
        "id": "N-sQ8UStJZld"
      },
      "source": [
        "Split Data Training 80%"
      ]
    },
    {
      "cell_type": "code",
      "metadata": {
        "colab": {
          "base_uri": "https://localhost:8080/"
        },
        "id": "24bm3xWykXR8",
        "outputId": "cb4cff42-83d0-447e-9e77-c033043fca65"
      },
      "source": [
        "from sklearn.model_selection import train_test_split\n",
        "# train_ratio = 0.70\n",
        "# validation_ratio = 0.10\n",
        "# test_ratio = 0.20\n",
        "train_ratio = 0.70\n",
        "validation_ratio = 0.20\n",
        "test_ratio = 0.10\n",
        "\n",
        "# train is now 70% of the entire data set\n",
        "# the _junk suffix means that we drop that variable completely\n",
        "X_train, X_test, y_train, y_test = train_test_split(X, y, test_size=1 - train_ratio)\n",
        "\n",
        "# test is now 10% of the initial data set\n",
        "# validation is now 20% of the initial data set\n",
        "X_val, X_train, y_val, y_train = train_test_split(X_train, y_train, test_size=test_ratio/(test_ratio + validation_ratio)) \n",
        "\n",
        "print(X_train, X_val, X_test)"
      ],
      "execution_count": null,
      "outputs": [
        {
          "output_type": "stream",
          "text": [
            "[[0.75       0.54301075 0.77272727 ... 0.82608696 0.5        1.        ]\n",
            " [0.86       0.67204301 1.         ... 0.95652174 0.25       0.5       ]\n",
            " [0.965      0.87096774 1.         ... 0.82608696 0.5        1.        ]\n",
            " ...\n",
            " [0.9125     0.77956989 1.         ... 0.86956522 0.5        0.75      ]\n",
            " [0.9        0.75268817 1.         ... 0.86956522 0.25       0.75      ]\n",
            " [0.925      0.79569892 1.         ... 0.86956522 0.         0.5       ]] [[0.9375     0.82795699 1.         ... 0.82608696 0.5        0.75      ]\n",
            " [0.985      0.93548387 1.         ... 1.         0.         0.5       ]\n",
            " [0.84       0.65053763 1.         ... 0.86956522 0.5        0.5       ]\n",
            " ...\n",
            " [0.8825     0.71505376 1.         ... 0.82608696 0.25       0.75      ]\n",
            " [0.95       0.84408602 1.         ... 0.82608696 0.25       0.5       ]\n",
            " [0.5525     0.46774194 0.54545455 ... 0.82608696 0.25       1.        ]] [[0.9475     0.83870968 1.         ... 0.82608696 0.5        0.75      ]\n",
            " [0.985      0.93010753 1.         ... 1.         0.5        0.5       ]\n",
            " [0.9075     0.76344086 1.         ... 0.86956522 0.5        0.25      ]\n",
            " ...\n",
            " [0.9325     0.81182796 0.84848485 ... 0.95652174 0.         0.5       ]\n",
            " [0.8675     0.67741935 1.         ... 0.82608696 0.5        0.5       ]\n",
            " [0.9275     0.81182796 1.         ... 0.95652174 0.5        0.75      ]]\n"
          ],
          "name": "stdout"
        }
      ]
    },
    {
      "cell_type": "code",
      "metadata": {
        "colab": {
          "base_uri": "https://localhost:8080/"
        },
        "id": "RFbQJR4SmIXq",
        "outputId": "9d3ed4f3-4310-4bb5-97a5-64fe8cd0371b"
      },
      "source": [
        "X_test.shape"
      ],
      "execution_count": null,
      "outputs": [
        {
          "output_type": "execute_result",
          "data": {
            "text/plain": [
              "(283, 8)"
            ]
          },
          "metadata": {
            "tags": []
          },
          "execution_count": 17
        }
      ]
    },
    {
      "cell_type": "markdown",
      "metadata": {
        "id": "PNkrz6N8MW3j"
      },
      "source": [
        "**Neural Network**"
      ]
    },
    {
      "cell_type": "markdown",
      "metadata": {
        "id": "v81RrmeSkag7"
      },
      "source": [
        "**ALTERNATIF** **SEMENTARA**"
      ]
    },
    {
      "cell_type": "code",
      "metadata": {
        "id": "74fu1_WPlEFC"
      },
      "source": [
        "from tensorflow import keras\n",
        "from keras.layers import Dense\n",
        "from keras.optimizers import Adam\n",
        "from keras.models import Sequential\n",
        "import tensorflow as tf"
      ],
      "execution_count": null,
      "outputs": []
    },
    {
      "cell_type": "code",
      "metadata": {
        "id": "aAuB2g96C4Vo",
        "colab": {
          "base_uri": "https://localhost:8080/"
        },
        "outputId": "ef15fa17-ec20-4f9e-afbd-e227073268ac"
      },
      "source": [
        "nn = Sequential()\n",
        "nn.add(Dense(50, input_dim=8, activation='sigmoid'))\n",
        "nn.add(Dense(70, activation='sigmoid'))\n",
        "nn.add(Dense(3, activation='softmax'))\n",
        "nn.compile(loss='categorical_crossentropy', optimizer='adam', metrics=['accuracy'])\n",
        "#nn.compile(loss=tf.nn.nce_loss, optimizer='adam', metrics=['accuracy'])\n",
        "\n",
        "print(nn.summary())"
      ],
      "execution_count": null,
      "outputs": [
        {
          "output_type": "stream",
          "text": [
            "Model: \"sequential\"\n",
            "_________________________________________________________________\n",
            "Layer (type)                 Output Shape              Param #   \n",
            "=================================================================\n",
            "dense (Dense)                (None, 50)                450       \n",
            "_________________________________________________________________\n",
            "dense_1 (Dense)              (None, 70)                3570      \n",
            "_________________________________________________________________\n",
            "dense_2 (Dense)              (None, 3)                 213       \n",
            "=================================================================\n",
            "Total params: 4,233\n",
            "Trainable params: 4,233\n",
            "Non-trainable params: 0\n",
            "_________________________________________________________________\n",
            "None\n"
          ],
          "name": "stdout"
        }
      ]
    },
    {
      "cell_type": "code",
      "metadata": {
        "colab": {
          "base_uri": "https://localhost:8080/"
        },
        "id": "LsX9lvxBnDoA",
        "outputId": "32cee900-d5bb-4084-e87a-5727173bab8e"
      },
      "source": [
        "history = nn.fit(X_train, y_train, epochs=300, batch_size=20, validation_data=(X_val, y_val))\n"
      ],
      "execution_count": null,
      "outputs": [
        {
          "output_type": "stream",
          "text": [
            "Epoch 1/300\n",
            "11/11 [==============================] - 1s 42ms/step - loss: 1.0304 - accuracy: 0.5770 - val_loss: 0.9802 - val_accuracy: 0.5594\n",
            "Epoch 2/300\n",
            "11/11 [==============================] - 0s 5ms/step - loss: 0.9310 - accuracy: 0.6160 - val_loss: 0.9629 - val_accuracy: 0.5594\n",
            "Epoch 3/300\n",
            "11/11 [==============================] - 0s 6ms/step - loss: 0.9640 - accuracy: 0.5845 - val_loss: 0.9564 - val_accuracy: 0.5594\n",
            "Epoch 4/300\n",
            "11/11 [==============================] - 0s 5ms/step - loss: 0.9494 - accuracy: 0.5831 - val_loss: 0.9631 - val_accuracy: 0.5594\n",
            "Epoch 5/300\n",
            "11/11 [==============================] - 0s 5ms/step - loss: 0.9075 - accuracy: 0.6213 - val_loss: 0.9644 - val_accuracy: 0.5594\n",
            "Epoch 6/300\n",
            "11/11 [==============================] - 0s 6ms/step - loss: 0.9530 - accuracy: 0.5890 - val_loss: 0.9653 - val_accuracy: 0.5594\n",
            "Epoch 7/300\n",
            "11/11 [==============================] - 0s 5ms/step - loss: 0.9264 - accuracy: 0.6125 - val_loss: 0.9618 - val_accuracy: 0.5594\n",
            "Epoch 8/300\n",
            "11/11 [==============================] - 0s 5ms/step - loss: 0.9483 - accuracy: 0.5917 - val_loss: 0.9584 - val_accuracy: 0.5594\n",
            "Epoch 9/300\n",
            "11/11 [==============================] - 0s 5ms/step - loss: 0.9742 - accuracy: 0.5660 - val_loss: 0.9572 - val_accuracy: 0.5594\n",
            "Epoch 10/300\n",
            "11/11 [==============================] - 0s 5ms/step - loss: 0.9325 - accuracy: 0.6100 - val_loss: 0.9645 - val_accuracy: 0.5594\n",
            "Epoch 11/300\n",
            "11/11 [==============================] - 0s 5ms/step - loss: 0.9725 - accuracy: 0.5679 - val_loss: 0.9538 - val_accuracy: 0.5594\n",
            "Epoch 12/300\n",
            "11/11 [==============================] - 0s 5ms/step - loss: 0.9252 - accuracy: 0.6091 - val_loss: 0.9573 - val_accuracy: 0.5594\n",
            "Epoch 13/300\n",
            "11/11 [==============================] - 0s 6ms/step - loss: 0.9869 - accuracy: 0.5609 - val_loss: 0.9543 - val_accuracy: 0.5594\n",
            "Epoch 14/300\n",
            "11/11 [==============================] - 0s 7ms/step - loss: 0.9035 - accuracy: 0.6169 - val_loss: 0.9516 - val_accuracy: 0.5594\n",
            "Epoch 15/300\n",
            "11/11 [==============================] - 0s 5ms/step - loss: 1.0102 - accuracy: 0.5353 - val_loss: 0.9506 - val_accuracy: 0.5594\n",
            "Epoch 16/300\n",
            "11/11 [==============================] - 0s 5ms/step - loss: 0.9580 - accuracy: 0.5623 - val_loss: 0.9498 - val_accuracy: 0.5594\n",
            "Epoch 17/300\n",
            "11/11 [==============================] - 0s 5ms/step - loss: 0.9843 - accuracy: 0.5504 - val_loss: 0.9541 - val_accuracy: 0.5594\n",
            "Epoch 18/300\n",
            "11/11 [==============================] - 0s 5ms/step - loss: 0.9176 - accuracy: 0.6082 - val_loss: 0.9481 - val_accuracy: 0.5594\n",
            "Epoch 19/300\n",
            "11/11 [==============================] - 0s 5ms/step - loss: 0.9163 - accuracy: 0.5977 - val_loss: 0.9406 - val_accuracy: 0.5594\n",
            "Epoch 20/300\n",
            "11/11 [==============================] - 0s 5ms/step - loss: 0.9416 - accuracy: 0.5774 - val_loss: 0.9432 - val_accuracy: 0.5594\n",
            "Epoch 21/300\n",
            "11/11 [==============================] - 0s 5ms/step - loss: 0.9651 - accuracy: 0.5462 - val_loss: 0.9458 - val_accuracy: 0.5594\n",
            "Epoch 22/300\n",
            "11/11 [==============================] - 0s 5ms/step - loss: 0.9413 - accuracy: 0.5760 - val_loss: 0.9441 - val_accuracy: 0.5594\n",
            "Epoch 23/300\n",
            "11/11 [==============================] - 0s 5ms/step - loss: 0.9309 - accuracy: 0.5773 - val_loss: 0.9341 - val_accuracy: 0.5594\n",
            "Epoch 24/300\n",
            "11/11 [==============================] - 0s 5ms/step - loss: 0.8925 - accuracy: 0.6063 - val_loss: 0.9347 - val_accuracy: 0.5594\n",
            "Epoch 25/300\n",
            "11/11 [==============================] - 0s 5ms/step - loss: 0.8957 - accuracy: 0.6042 - val_loss: 0.9379 - val_accuracy: 0.5594\n",
            "Epoch 26/300\n",
            "11/11 [==============================] - 0s 5ms/step - loss: 0.9116 - accuracy: 0.5850 - val_loss: 0.9315 - val_accuracy: 0.5594\n",
            "Epoch 27/300\n",
            "11/11 [==============================] - 0s 5ms/step - loss: 0.9242 - accuracy: 0.5726 - val_loss: 0.9259 - val_accuracy: 0.5594\n",
            "Epoch 28/300\n",
            "11/11 [==============================] - 0s 5ms/step - loss: 0.9001 - accuracy: 0.6033 - val_loss: 0.9342 - val_accuracy: 0.5594\n",
            "Epoch 29/300\n",
            "11/11 [==============================] - 0s 5ms/step - loss: 0.8732 - accuracy: 0.6184 - val_loss: 0.9184 - val_accuracy: 0.5594\n",
            "Epoch 30/300\n",
            "11/11 [==============================] - 0s 5ms/step - loss: 0.8663 - accuracy: 0.6293 - val_loss: 0.9182 - val_accuracy: 0.5594\n",
            "Epoch 31/300\n",
            "11/11 [==============================] - 0s 5ms/step - loss: 0.9080 - accuracy: 0.5802 - val_loss: 0.9197 - val_accuracy: 0.5616\n",
            "Epoch 32/300\n",
            "11/11 [==============================] - 0s 5ms/step - loss: 0.8724 - accuracy: 0.6070 - val_loss: 0.9114 - val_accuracy: 0.5594\n",
            "Epoch 33/300\n",
            "11/11 [==============================] - 0s 6ms/step - loss: 0.9148 - accuracy: 0.5635 - val_loss: 0.9050 - val_accuracy: 0.5616\n",
            "Epoch 34/300\n",
            "11/11 [==============================] - 0s 6ms/step - loss: 0.8685 - accuracy: 0.6046 - val_loss: 0.9068 - val_accuracy: 0.5616\n",
            "Epoch 35/300\n",
            "11/11 [==============================] - 0s 5ms/step - loss: 0.8705 - accuracy: 0.5992 - val_loss: 0.9004 - val_accuracy: 0.5639\n",
            "Epoch 36/300\n",
            "11/11 [==============================] - 0s 5ms/step - loss: 0.8343 - accuracy: 0.6310 - val_loss: 0.8924 - val_accuracy: 0.5639\n",
            "Epoch 37/300\n",
            "11/11 [==============================] - 0s 5ms/step - loss: 0.8451 - accuracy: 0.6239 - val_loss: 0.8922 - val_accuracy: 0.5708\n",
            "Epoch 38/300\n",
            "11/11 [==============================] - 0s 5ms/step - loss: 0.8665 - accuracy: 0.6024 - val_loss: 0.8860 - val_accuracy: 0.5708\n",
            "Epoch 39/300\n",
            "11/11 [==============================] - 0s 6ms/step - loss: 0.8753 - accuracy: 0.5790 - val_loss: 0.8800 - val_accuracy: 0.5708\n",
            "Epoch 40/300\n",
            "11/11 [==============================] - 0s 6ms/step - loss: 0.8600 - accuracy: 0.5914 - val_loss: 0.8766 - val_accuracy: 0.5731\n",
            "Epoch 41/300\n",
            "11/11 [==============================] - 0s 6ms/step - loss: 0.8440 - accuracy: 0.5988 - val_loss: 0.8684 - val_accuracy: 0.5731\n",
            "Epoch 42/300\n",
            "11/11 [==============================] - 0s 5ms/step - loss: 0.8004 - accuracy: 0.6439 - val_loss: 0.8646 - val_accuracy: 0.5731\n",
            "Epoch 43/300\n",
            "11/11 [==============================] - 0s 5ms/step - loss: 0.8363 - accuracy: 0.5971 - val_loss: 0.8573 - val_accuracy: 0.5753\n",
            "Epoch 44/300\n",
            "11/11 [==============================] - 0s 6ms/step - loss: 0.8188 - accuracy: 0.6120 - val_loss: 0.8564 - val_accuracy: 0.5731\n",
            "Epoch 45/300\n",
            "11/11 [==============================] - 0s 5ms/step - loss: 0.7759 - accuracy: 0.6455 - val_loss: 0.8469 - val_accuracy: 0.5753\n",
            "Epoch 46/300\n",
            "11/11 [==============================] - 0s 5ms/step - loss: 0.7970 - accuracy: 0.6331 - val_loss: 0.8417 - val_accuracy: 0.6142\n",
            "Epoch 47/300\n",
            "11/11 [==============================] - 0s 5ms/step - loss: 0.7866 - accuracy: 0.6496 - val_loss: 0.8338 - val_accuracy: 0.5799\n",
            "Epoch 48/300\n",
            "11/11 [==============================] - 0s 5ms/step - loss: 0.7585 - accuracy: 0.6509 - val_loss: 0.8285 - val_accuracy: 0.6096\n",
            "Epoch 49/300\n",
            "11/11 [==============================] - 0s 5ms/step - loss: 0.7782 - accuracy: 0.6930 - val_loss: 0.8195 - val_accuracy: 0.6347\n",
            "Epoch 50/300\n",
            "11/11 [==============================] - 0s 6ms/step - loss: 0.7854 - accuracy: 0.6512 - val_loss: 0.8128 - val_accuracy: 0.5913\n",
            "Epoch 51/300\n",
            "11/11 [==============================] - 0s 5ms/step - loss: 0.7614 - accuracy: 0.6319 - val_loss: 0.8081 - val_accuracy: 0.6301\n",
            "Epoch 52/300\n",
            "11/11 [==============================] - 0s 6ms/step - loss: 0.8112 - accuracy: 0.6480 - val_loss: 0.8000 - val_accuracy: 0.6416\n",
            "Epoch 53/300\n",
            "11/11 [==============================] - 0s 5ms/step - loss: 0.7310 - accuracy: 0.6899 - val_loss: 0.8059 - val_accuracy: 0.6279\n",
            "Epoch 54/300\n",
            "11/11 [==============================] - 0s 5ms/step - loss: 0.7378 - accuracy: 0.7091 - val_loss: 0.7865 - val_accuracy: 0.6416\n",
            "Epoch 55/300\n",
            "11/11 [==============================] - 0s 5ms/step - loss: 0.7567 - accuracy: 0.6647 - val_loss: 0.7796 - val_accuracy: 0.6416\n",
            "Epoch 56/300\n",
            "11/11 [==============================] - 0s 6ms/step - loss: 0.7577 - accuracy: 0.6535 - val_loss: 0.7697 - val_accuracy: 0.6416\n",
            "Epoch 57/300\n",
            "11/11 [==============================] - 0s 6ms/step - loss: 0.6947 - accuracy: 0.7210 - val_loss: 0.7735 - val_accuracy: 0.6416\n",
            "Epoch 58/300\n",
            "11/11 [==============================] - 0s 6ms/step - loss: 0.6734 - accuracy: 0.7400 - val_loss: 0.7609 - val_accuracy: 0.6416\n",
            "Epoch 59/300\n",
            "11/11 [==============================] - 0s 5ms/step - loss: 0.7193 - accuracy: 0.6752 - val_loss: 0.7528 - val_accuracy: 0.6438\n",
            "Epoch 60/300\n",
            "11/11 [==============================] - 0s 5ms/step - loss: 0.6963 - accuracy: 0.6839 - val_loss: 0.7498 - val_accuracy: 0.6438\n",
            "Epoch 61/300\n",
            "11/11 [==============================] - 0s 5ms/step - loss: 0.6719 - accuracy: 0.7106 - val_loss: 0.7516 - val_accuracy: 0.6393\n",
            "Epoch 62/300\n",
            "11/11 [==============================] - 0s 5ms/step - loss: 0.6751 - accuracy: 0.7126 - val_loss: 0.7397 - val_accuracy: 0.6416\n",
            "Epoch 63/300\n",
            "11/11 [==============================] - 0s 6ms/step - loss: 0.6251 - accuracy: 0.7428 - val_loss: 0.7304 - val_accuracy: 0.6461\n",
            "Epoch 64/300\n",
            "11/11 [==============================] - 0s 5ms/step - loss: 0.6838 - accuracy: 0.6784 - val_loss: 0.7254 - val_accuracy: 0.6438\n",
            "Epoch 65/300\n",
            "11/11 [==============================] - 0s 5ms/step - loss: 0.6669 - accuracy: 0.6827 - val_loss: 0.7248 - val_accuracy: 0.6416\n",
            "Epoch 66/300\n",
            "11/11 [==============================] - 0s 5ms/step - loss: 0.6520 - accuracy: 0.6923 - val_loss: 0.7253 - val_accuracy: 0.6370\n",
            "Epoch 67/300\n",
            "11/11 [==============================] - 0s 5ms/step - loss: 0.6332 - accuracy: 0.7417 - val_loss: 0.7151 - val_accuracy: 0.6438\n",
            "Epoch 68/300\n",
            "11/11 [==============================] - 0s 5ms/step - loss: 0.6328 - accuracy: 0.7315 - val_loss: 0.7063 - val_accuracy: 0.6461\n",
            "Epoch 69/300\n",
            "11/11 [==============================] - 0s 5ms/step - loss: 0.6272 - accuracy: 0.7156 - val_loss: 0.7091 - val_accuracy: 0.6438\n",
            "Epoch 70/300\n",
            "11/11 [==============================] - 0s 5ms/step - loss: 0.6535 - accuracy: 0.6983 - val_loss: 0.7006 - val_accuracy: 0.6507\n",
            "Epoch 71/300\n",
            "11/11 [==============================] - 0s 5ms/step - loss: 0.6229 - accuracy: 0.7311 - val_loss: 0.6963 - val_accuracy: 0.6507\n",
            "Epoch 72/300\n",
            "11/11 [==============================] - 0s 5ms/step - loss: 0.6163 - accuracy: 0.7379 - val_loss: 0.6956 - val_accuracy: 0.6484\n",
            "Epoch 73/300\n",
            "11/11 [==============================] - 0s 5ms/step - loss: 0.6056 - accuracy: 0.7539 - val_loss: 0.6880 - val_accuracy: 0.6507\n",
            "Epoch 74/300\n",
            "11/11 [==============================] - 0s 5ms/step - loss: 0.6085 - accuracy: 0.7348 - val_loss: 0.6827 - val_accuracy: 0.6484\n",
            "Epoch 75/300\n",
            "11/11 [==============================] - 0s 6ms/step - loss: 0.6130 - accuracy: 0.7522 - val_loss: 0.6853 - val_accuracy: 0.6461\n",
            "Epoch 76/300\n",
            "11/11 [==============================] - 0s 5ms/step - loss: 0.5926 - accuracy: 0.7486 - val_loss: 0.6768 - val_accuracy: 0.6484\n",
            "Epoch 77/300\n",
            "11/11 [==============================] - 0s 5ms/step - loss: 0.5980 - accuracy: 0.7259 - val_loss: 0.6747 - val_accuracy: 0.6438\n",
            "Epoch 78/300\n",
            "11/11 [==============================] - 0s 6ms/step - loss: 0.6272 - accuracy: 0.6944 - val_loss: 0.6729 - val_accuracy: 0.6484\n",
            "Epoch 79/300\n",
            "11/11 [==============================] - 0s 6ms/step - loss: 0.6137 - accuracy: 0.7093 - val_loss: 0.6739 - val_accuracy: 0.6438\n",
            "Epoch 80/300\n",
            "11/11 [==============================] - 0s 5ms/step - loss: 0.5735 - accuracy: 0.7544 - val_loss: 0.6683 - val_accuracy: 0.6507\n",
            "Epoch 81/300\n",
            "11/11 [==============================] - 0s 6ms/step - loss: 0.6196 - accuracy: 0.7130 - val_loss: 0.6596 - val_accuracy: 0.6530\n",
            "Epoch 82/300\n",
            "11/11 [==============================] - 0s 5ms/step - loss: 0.6001 - accuracy: 0.7138 - val_loss: 0.6623 - val_accuracy: 0.6507\n",
            "Epoch 83/300\n",
            "11/11 [==============================] - 0s 5ms/step - loss: 0.5838 - accuracy: 0.7274 - val_loss: 0.6627 - val_accuracy: 0.6507\n",
            "Epoch 84/300\n",
            "11/11 [==============================] - 0s 6ms/step - loss: 0.6045 - accuracy: 0.6912 - val_loss: 0.6514 - val_accuracy: 0.6507\n",
            "Epoch 85/300\n",
            "11/11 [==============================] - 0s 6ms/step - loss: 0.6262 - accuracy: 0.6541 - val_loss: 0.6536 - val_accuracy: 0.6575\n",
            "Epoch 86/300\n",
            "11/11 [==============================] - 0s 5ms/step - loss: 0.5736 - accuracy: 0.7417 - val_loss: 0.6564 - val_accuracy: 0.6530\n",
            "Epoch 87/300\n",
            "11/11 [==============================] - 0s 5ms/step - loss: 0.5622 - accuracy: 0.7381 - val_loss: 0.6465 - val_accuracy: 0.6598\n",
            "Epoch 88/300\n",
            "11/11 [==============================] - 0s 6ms/step - loss: 0.5472 - accuracy: 0.7582 - val_loss: 0.6441 - val_accuracy: 0.6553\n",
            "Epoch 89/300\n",
            "11/11 [==============================] - 0s 5ms/step - loss: 0.5234 - accuracy: 0.7865 - val_loss: 0.6418 - val_accuracy: 0.6598\n",
            "Epoch 90/300\n",
            "11/11 [==============================] - 0s 5ms/step - loss: 0.5590 - accuracy: 0.7193 - val_loss: 0.6342 - val_accuracy: 0.6553\n",
            "Epoch 91/300\n",
            "11/11 [==============================] - 0s 5ms/step - loss: 0.5551 - accuracy: 0.7303 - val_loss: 0.6408 - val_accuracy: 0.6621\n",
            "Epoch 92/300\n",
            "11/11 [==============================] - 0s 5ms/step - loss: 0.5463 - accuracy: 0.7410 - val_loss: 0.6355 - val_accuracy: 0.6621\n",
            "Epoch 93/300\n",
            "11/11 [==============================] - 0s 5ms/step - loss: 0.5433 - accuracy: 0.7399 - val_loss: 0.6288 - val_accuracy: 0.6644\n",
            "Epoch 94/300\n",
            "11/11 [==============================] - 0s 6ms/step - loss: 0.5705 - accuracy: 0.7236 - val_loss: 0.6297 - val_accuracy: 0.6644\n",
            "Epoch 95/300\n",
            "11/11 [==============================] - 0s 5ms/step - loss: 0.5375 - accuracy: 0.7374 - val_loss: 0.6317 - val_accuracy: 0.6689\n",
            "Epoch 96/300\n",
            "11/11 [==============================] - 0s 6ms/step - loss: 0.5609 - accuracy: 0.7302 - val_loss: 0.6236 - val_accuracy: 0.6621\n",
            "Epoch 97/300\n",
            "11/11 [==============================] - 0s 5ms/step - loss: 0.5608 - accuracy: 0.7153 - val_loss: 0.6192 - val_accuracy: 0.6644\n",
            "Epoch 98/300\n",
            "11/11 [==============================] - 0s 5ms/step - loss: 0.5359 - accuracy: 0.7398 - val_loss: 0.6236 - val_accuracy: 0.6644\n",
            "Epoch 99/300\n",
            "11/11 [==============================] - 0s 5ms/step - loss: 0.5549 - accuracy: 0.7321 - val_loss: 0.6172 - val_accuracy: 0.6575\n",
            "Epoch 100/300\n",
            "11/11 [==============================] - 0s 5ms/step - loss: 0.5084 - accuracy: 0.7691 - val_loss: 0.6227 - val_accuracy: 0.6689\n",
            "Epoch 101/300\n",
            "11/11 [==============================] - 0s 5ms/step - loss: 0.5100 - accuracy: 0.7492 - val_loss: 0.6111 - val_accuracy: 0.6644\n",
            "Epoch 102/300\n",
            "11/11 [==============================] - 0s 5ms/step - loss: 0.5254 - accuracy: 0.7477 - val_loss: 0.6090 - val_accuracy: 0.6575\n",
            "Epoch 103/300\n",
            "11/11 [==============================] - 0s 6ms/step - loss: 0.5738 - accuracy: 0.6958 - val_loss: 0.6149 - val_accuracy: 0.6689\n",
            "Epoch 104/300\n",
            "11/11 [==============================] - 0s 6ms/step - loss: 0.5028 - accuracy: 0.7625 - val_loss: 0.6146 - val_accuracy: 0.6735\n",
            "Epoch 105/300\n",
            "11/11 [==============================] - 0s 5ms/step - loss: 0.5360 - accuracy: 0.7210 - val_loss: 0.6046 - val_accuracy: 0.6553\n",
            "Epoch 106/300\n",
            "11/11 [==============================] - 0s 5ms/step - loss: 0.5078 - accuracy: 0.7791 - val_loss: 0.6125 - val_accuracy: 0.6667\n",
            "Epoch 107/300\n",
            "11/11 [==============================] - 0s 5ms/step - loss: 0.5319 - accuracy: 0.7324 - val_loss: 0.6010 - val_accuracy: 0.6553\n",
            "Epoch 108/300\n",
            "11/11 [==============================] - 0s 5ms/step - loss: 0.5071 - accuracy: 0.7400 - val_loss: 0.6042 - val_accuracy: 0.6758\n",
            "Epoch 109/300\n",
            "11/11 [==============================] - 0s 5ms/step - loss: 0.4848 - accuracy: 0.7737 - val_loss: 0.6001 - val_accuracy: 0.6712\n",
            "Epoch 110/300\n",
            "11/11 [==============================] - 0s 5ms/step - loss: 0.5072 - accuracy: 0.7614 - val_loss: 0.5927 - val_accuracy: 0.6598\n",
            "Epoch 111/300\n",
            "11/11 [==============================] - 0s 6ms/step - loss: 0.4983 - accuracy: 0.7656 - val_loss: 0.5929 - val_accuracy: 0.6758\n",
            "Epoch 112/300\n",
            "11/11 [==============================] - 0s 6ms/step - loss: 0.5104 - accuracy: 0.7430 - val_loss: 0.5894 - val_accuracy: 0.6644\n",
            "Epoch 113/300\n",
            "11/11 [==============================] - 0s 5ms/step - loss: 0.5110 - accuracy: 0.7212 - val_loss: 0.5875 - val_accuracy: 0.6667\n",
            "Epoch 114/300\n",
            "11/11 [==============================] - 0s 5ms/step - loss: 0.5308 - accuracy: 0.7234 - val_loss: 0.5877 - val_accuracy: 0.6689\n",
            "Epoch 115/300\n",
            "11/11 [==============================] - 0s 5ms/step - loss: 0.4919 - accuracy: 0.7701 - val_loss: 0.5876 - val_accuracy: 0.6735\n",
            "Epoch 116/300\n",
            "11/11 [==============================] - 0s 5ms/step - loss: 0.5190 - accuracy: 0.7430 - val_loss: 0.5796 - val_accuracy: 0.6621\n",
            "Epoch 117/300\n",
            "11/11 [==============================] - 0s 5ms/step - loss: 0.4707 - accuracy: 0.7648 - val_loss: 0.5799 - val_accuracy: 0.6644\n",
            "Epoch 118/300\n",
            "11/11 [==============================] - 0s 6ms/step - loss: 0.4925 - accuracy: 0.7552 - val_loss: 0.5793 - val_accuracy: 0.6689\n",
            "Epoch 119/300\n",
            "11/11 [==============================] - 0s 6ms/step - loss: 0.4805 - accuracy: 0.7715 - val_loss: 0.5800 - val_accuracy: 0.6689\n",
            "Epoch 120/300\n",
            "11/11 [==============================] - 0s 5ms/step - loss: 0.5359 - accuracy: 0.7055 - val_loss: 0.5722 - val_accuracy: 0.6598\n",
            "Epoch 121/300\n",
            "11/11 [==============================] - 0s 5ms/step - loss: 0.4940 - accuracy: 0.7482 - val_loss: 0.5745 - val_accuracy: 0.6689\n",
            "Epoch 122/300\n",
            "11/11 [==============================] - 0s 5ms/step - loss: 0.4662 - accuracy: 0.7657 - val_loss: 0.5680 - val_accuracy: 0.6621\n",
            "Epoch 123/300\n",
            "11/11 [==============================] - 0s 5ms/step - loss: 0.4777 - accuracy: 0.7675 - val_loss: 0.5663 - val_accuracy: 0.6621\n",
            "Epoch 124/300\n",
            "11/11 [==============================] - 0s 5ms/step - loss: 0.4737 - accuracy: 0.7730 - val_loss: 0.5691 - val_accuracy: 0.6712\n",
            "Epoch 125/300\n",
            "11/11 [==============================] - 0s 5ms/step - loss: 0.5151 - accuracy: 0.7216 - val_loss: 0.5624 - val_accuracy: 0.6644\n",
            "Epoch 126/300\n",
            "11/11 [==============================] - 0s 5ms/step - loss: 0.4659 - accuracy: 0.7734 - val_loss: 0.5637 - val_accuracy: 0.6689\n",
            "Epoch 127/300\n",
            "11/11 [==============================] - 0s 5ms/step - loss: 0.4676 - accuracy: 0.7595 - val_loss: 0.5559 - val_accuracy: 0.6598\n",
            "Epoch 128/300\n",
            "11/11 [==============================] - 0s 6ms/step - loss: 0.4713 - accuracy: 0.7424 - val_loss: 0.5597 - val_accuracy: 0.6667\n",
            "Epoch 129/300\n",
            "11/11 [==============================] - 0s 5ms/step - loss: 0.5067 - accuracy: 0.7243 - val_loss: 0.5602 - val_accuracy: 0.6758\n",
            "Epoch 130/300\n",
            "11/11 [==============================] - 0s 5ms/step - loss: 0.4620 - accuracy: 0.7762 - val_loss: 0.5578 - val_accuracy: 0.6689\n",
            "Epoch 131/300\n",
            "11/11 [==============================] - 0s 5ms/step - loss: 0.4647 - accuracy: 0.7714 - val_loss: 0.5508 - val_accuracy: 0.6644\n",
            "Epoch 132/300\n",
            "11/11 [==============================] - 0s 5ms/step - loss: 0.4726 - accuracy: 0.7425 - val_loss: 0.5505 - val_accuracy: 0.6712\n",
            "Epoch 133/300\n",
            "11/11 [==============================] - 0s 6ms/step - loss: 0.4987 - accuracy: 0.7163 - val_loss: 0.5465 - val_accuracy: 0.6667\n",
            "Epoch 134/300\n",
            "11/11 [==============================] - 0s 6ms/step - loss: 0.4564 - accuracy: 0.7684 - val_loss: 0.5457 - val_accuracy: 0.6689\n",
            "Epoch 135/300\n",
            "11/11 [==============================] - 0s 5ms/step - loss: 0.4653 - accuracy: 0.7457 - val_loss: 0.5430 - val_accuracy: 0.6689\n",
            "Epoch 136/300\n",
            "11/11 [==============================] - 0s 5ms/step - loss: 0.4634 - accuracy: 0.7554 - val_loss: 0.5438 - val_accuracy: 0.6712\n",
            "Epoch 137/300\n",
            "11/11 [==============================] - 0s 5ms/step - loss: 0.4384 - accuracy: 0.7937 - val_loss: 0.5400 - val_accuracy: 0.6667\n",
            "Epoch 138/300\n",
            "11/11 [==============================] - 0s 5ms/step - loss: 0.4592 - accuracy: 0.7791 - val_loss: 0.5340 - val_accuracy: 0.6644\n",
            "Epoch 139/300\n",
            "11/11 [==============================] - 0s 5ms/step - loss: 0.4603 - accuracy: 0.7548 - val_loss: 0.5336 - val_accuracy: 0.6667\n",
            "Epoch 140/300\n",
            "11/11 [==============================] - 0s 5ms/step - loss: 0.4467 - accuracy: 0.7751 - val_loss: 0.5355 - val_accuracy: 0.6689\n",
            "Epoch 141/300\n",
            "11/11 [==============================] - 0s 5ms/step - loss: 0.4289 - accuracy: 0.7814 - val_loss: 0.5298 - val_accuracy: 0.6689\n",
            "Epoch 142/300\n",
            "11/11 [==============================] - 0s 5ms/step - loss: 0.4334 - accuracy: 0.7655 - val_loss: 0.5250 - val_accuracy: 0.6804\n",
            "Epoch 143/300\n",
            "11/11 [==============================] - 0s 5ms/step - loss: 0.4344 - accuracy: 0.7739 - val_loss: 0.5278 - val_accuracy: 0.6712\n",
            "Epoch 144/300\n",
            "11/11 [==============================] - 0s 6ms/step - loss: 0.4704 - accuracy: 0.7229 - val_loss: 0.5253 - val_accuracy: 0.6712\n",
            "Epoch 145/300\n",
            "11/11 [==============================] - 0s 5ms/step - loss: 0.4311 - accuracy: 0.7644 - val_loss: 0.5287 - val_accuracy: 0.6781\n",
            "Epoch 146/300\n",
            "11/11 [==============================] - 0s 5ms/step - loss: 0.4224 - accuracy: 0.7839 - val_loss: 0.5188 - val_accuracy: 0.7489\n",
            "Epoch 147/300\n",
            "11/11 [==============================] - 0s 5ms/step - loss: 0.4411 - accuracy: 0.7714 - val_loss: 0.5208 - val_accuracy: 0.6781\n",
            "Epoch 148/300\n",
            "11/11 [==============================] - 0s 5ms/step - loss: 0.4404 - accuracy: 0.7563 - val_loss: 0.5175 - val_accuracy: 0.6735\n",
            "Epoch 149/300\n",
            "11/11 [==============================] - 0s 5ms/step - loss: 0.4975 - accuracy: 0.7301 - val_loss: 0.5130 - val_accuracy: 0.6758\n",
            "Epoch 150/300\n",
            "11/11 [==============================] - 0s 5ms/step - loss: 0.4569 - accuracy: 0.7537 - val_loss: 0.5235 - val_accuracy: 0.6804\n",
            "Epoch 151/300\n",
            "11/11 [==============================] - 0s 6ms/step - loss: 0.4750 - accuracy: 0.7491 - val_loss: 0.5113 - val_accuracy: 0.7489\n",
            "Epoch 152/300\n",
            "11/11 [==============================] - 0s 5ms/step - loss: 0.4410 - accuracy: 0.7450 - val_loss: 0.5127 - val_accuracy: 0.6804\n",
            "Epoch 153/300\n",
            "11/11 [==============================] - 0s 5ms/step - loss: 0.4647 - accuracy: 0.7212 - val_loss: 0.5087 - val_accuracy: 0.6804\n",
            "Epoch 154/300\n",
            "11/11 [==============================] - 0s 6ms/step - loss: 0.4059 - accuracy: 0.7837 - val_loss: 0.5047 - val_accuracy: 0.6804\n",
            "Epoch 155/300\n",
            "11/11 [==============================] - 0s 5ms/step - loss: 0.4624 - accuracy: 0.7559 - val_loss: 0.4996 - val_accuracy: 0.7489\n",
            "Epoch 156/300\n",
            "11/11 [==============================] - 0s 5ms/step - loss: 0.4373 - accuracy: 0.7456 - val_loss: 0.5064 - val_accuracy: 0.6849\n",
            "Epoch 157/300\n",
            "11/11 [==============================] - 0s 5ms/step - loss: 0.4204 - accuracy: 0.7735 - val_loss: 0.4978 - val_accuracy: 0.7648\n",
            "Epoch 158/300\n",
            "11/11 [==============================] - 0s 5ms/step - loss: 0.3957 - accuracy: 0.8110 - val_loss: 0.5017 - val_accuracy: 0.6849\n",
            "Epoch 159/300\n",
            "11/11 [==============================] - 0s 5ms/step - loss: 0.4028 - accuracy: 0.7811 - val_loss: 0.4900 - val_accuracy: 0.7443\n",
            "Epoch 160/300\n",
            "11/11 [==============================] - 0s 5ms/step - loss: 0.3990 - accuracy: 0.8089 - val_loss: 0.4868 - val_accuracy: 0.7352\n",
            "Epoch 161/300\n",
            "11/11 [==============================] - 0s 5ms/step - loss: 0.4088 - accuracy: 0.7872 - val_loss: 0.4866 - val_accuracy: 0.7260\n",
            "Epoch 162/300\n",
            "11/11 [==============================] - 0s 6ms/step - loss: 0.4337 - accuracy: 0.7415 - val_loss: 0.4871 - val_accuracy: 0.6872\n",
            "Epoch 163/300\n",
            "11/11 [==============================] - 0s 5ms/step - loss: 0.4469 - accuracy: 0.7595 - val_loss: 0.4828 - val_accuracy: 0.7557\n",
            "Epoch 164/300\n",
            "11/11 [==============================] - 0s 6ms/step - loss: 0.4178 - accuracy: 0.7661 - val_loss: 0.4816 - val_accuracy: 0.7306\n",
            "Epoch 165/300\n",
            "11/11 [==============================] - 0s 5ms/step - loss: 0.4013 - accuracy: 0.7966 - val_loss: 0.4778 - val_accuracy: 0.7443\n",
            "Epoch 166/300\n",
            "11/11 [==============================] - 0s 5ms/step - loss: 0.4221 - accuracy: 0.7645 - val_loss: 0.4730 - val_accuracy: 0.7717\n",
            "Epoch 167/300\n",
            "11/11 [==============================] - 0s 5ms/step - loss: 0.3747 - accuracy: 0.7974 - val_loss: 0.4786 - val_accuracy: 0.7306\n",
            "Epoch 168/300\n",
            "11/11 [==============================] - 0s 6ms/step - loss: 0.3948 - accuracy: 0.7996 - val_loss: 0.4748 - val_accuracy: 0.7534\n",
            "Epoch 169/300\n",
            "11/11 [==============================] - 0s 5ms/step - loss: 0.3870 - accuracy: 0.8018 - val_loss: 0.4677 - val_accuracy: 0.7717\n",
            "Epoch 170/300\n",
            "11/11 [==============================] - 0s 5ms/step - loss: 0.3633 - accuracy: 0.8272 - val_loss: 0.4708 - val_accuracy: 0.7260\n",
            "Epoch 171/300\n",
            "11/11 [==============================] - 0s 5ms/step - loss: 0.3866 - accuracy: 0.8001 - val_loss: 0.4612 - val_accuracy: 0.7854\n",
            "Epoch 172/300\n",
            "11/11 [==============================] - 0s 6ms/step - loss: 0.3849 - accuracy: 0.8256 - val_loss: 0.4627 - val_accuracy: 0.7580\n",
            "Epoch 173/300\n",
            "11/11 [==============================] - 0s 5ms/step - loss: 0.3915 - accuracy: 0.8341 - val_loss: 0.4652 - val_accuracy: 0.7808\n",
            "Epoch 174/300\n",
            "11/11 [==============================] - 0s 5ms/step - loss: 0.4085 - accuracy: 0.8366 - val_loss: 0.4550 - val_accuracy: 0.7785\n",
            "Epoch 175/300\n",
            "11/11 [==============================] - 0s 5ms/step - loss: 0.3783 - accuracy: 0.8203 - val_loss: 0.4553 - val_accuracy: 0.7854\n",
            "Epoch 176/300\n",
            "11/11 [==============================] - 0s 6ms/step - loss: 0.3837 - accuracy: 0.8388 - val_loss: 0.4569 - val_accuracy: 0.7489\n",
            "Epoch 177/300\n",
            "11/11 [==============================] - 0s 6ms/step - loss: 0.3992 - accuracy: 0.7822 - val_loss: 0.4497 - val_accuracy: 0.7831\n",
            "Epoch 178/300\n",
            "11/11 [==============================] - 0s 5ms/step - loss: 0.3721 - accuracy: 0.8207 - val_loss: 0.4569 - val_accuracy: 0.7420\n",
            "Epoch 179/300\n",
            "11/11 [==============================] - 0s 6ms/step - loss: 0.3953 - accuracy: 0.7942 - val_loss: 0.4447 - val_accuracy: 0.7991\n",
            "Epoch 180/300\n",
            "11/11 [==============================] - 0s 5ms/step - loss: 0.3677 - accuracy: 0.8284 - val_loss: 0.4447 - val_accuracy: 0.7831\n",
            "Epoch 181/300\n",
            "11/11 [==============================] - 0s 5ms/step - loss: 0.3594 - accuracy: 0.8574 - val_loss: 0.4424 - val_accuracy: 0.7808\n",
            "Epoch 182/300\n",
            "11/11 [==============================] - 0s 6ms/step - loss: 0.3754 - accuracy: 0.8355 - val_loss: 0.4367 - val_accuracy: 0.8037\n",
            "Epoch 183/300\n",
            "11/11 [==============================] - 0s 5ms/step - loss: 0.3523 - accuracy: 0.8202 - val_loss: 0.4388 - val_accuracy: 0.7877\n",
            "Epoch 184/300\n",
            "11/11 [==============================] - 0s 6ms/step - loss: 0.3733 - accuracy: 0.8352 - val_loss: 0.4321 - val_accuracy: 0.7968\n",
            "Epoch 185/300\n",
            "11/11 [==============================] - 0s 5ms/step - loss: 0.3316 - accuracy: 0.8614 - val_loss: 0.4327 - val_accuracy: 0.7854\n",
            "Epoch 186/300\n",
            "11/11 [==============================] - 0s 5ms/step - loss: 0.3830 - accuracy: 0.8383 - val_loss: 0.4266 - val_accuracy: 0.8082\n",
            "Epoch 187/300\n",
            "11/11 [==============================] - 0s 5ms/step - loss: 0.3735 - accuracy: 0.8197 - val_loss: 0.4287 - val_accuracy: 0.7900\n",
            "Epoch 188/300\n",
            "11/11 [==============================] - 0s 5ms/step - loss: 0.3379 - accuracy: 0.8377 - val_loss: 0.4271 - val_accuracy: 0.7922\n",
            "Epoch 189/300\n",
            "11/11 [==============================] - 0s 5ms/step - loss: 0.3572 - accuracy: 0.8464 - val_loss: 0.4239 - val_accuracy: 0.7922\n",
            "Epoch 190/300\n",
            "11/11 [==============================] - 0s 5ms/step - loss: 0.3604 - accuracy: 0.8418 - val_loss: 0.4180 - val_accuracy: 0.8059\n",
            "Epoch 191/300\n",
            "11/11 [==============================] - 0s 5ms/step - loss: 0.3280 - accuracy: 0.8611 - val_loss: 0.4192 - val_accuracy: 0.8447\n",
            "Epoch 192/300\n",
            "11/11 [==============================] - 0s 5ms/step - loss: 0.3495 - accuracy: 0.8808 - val_loss: 0.4229 - val_accuracy: 0.7854\n",
            "Epoch 193/300\n",
            "11/11 [==============================] - 0s 5ms/step - loss: 0.3520 - accuracy: 0.8514 - val_loss: 0.4156 - val_accuracy: 0.8402\n",
            "Epoch 194/300\n",
            "11/11 [==============================] - 0s 5ms/step - loss: 0.3604 - accuracy: 0.8602 - val_loss: 0.4166 - val_accuracy: 0.7922\n",
            "Epoch 195/300\n",
            "11/11 [==============================] - 0s 6ms/step - loss: 0.3589 - accuracy: 0.8410 - val_loss: 0.4088 - val_accuracy: 0.8516\n",
            "Epoch 196/300\n",
            "11/11 [==============================] - 0s 5ms/step - loss: 0.3557 - accuracy: 0.8352 - val_loss: 0.4115 - val_accuracy: 0.7922\n",
            "Epoch 197/300\n",
            "11/11 [==============================] - 0s 5ms/step - loss: 0.3327 - accuracy: 0.8643 - val_loss: 0.4068 - val_accuracy: 0.8425\n",
            "Epoch 198/300\n",
            "11/11 [==============================] - 0s 6ms/step - loss: 0.3440 - accuracy: 0.8805 - val_loss: 0.4004 - val_accuracy: 0.8128\n",
            "Epoch 199/300\n",
            "11/11 [==============================] - 0s 5ms/step - loss: 0.3324 - accuracy: 0.8420 - val_loss: 0.4009 - val_accuracy: 0.8059\n",
            "Epoch 200/300\n",
            "11/11 [==============================] - 0s 5ms/step - loss: 0.3359 - accuracy: 0.8345 - val_loss: 0.3943 - val_accuracy: 0.8196\n",
            "Epoch 201/300\n",
            "11/11 [==============================] - 0s 5ms/step - loss: 0.3524 - accuracy: 0.8484 - val_loss: 0.3942 - val_accuracy: 0.8311\n",
            "Epoch 202/300\n",
            "11/11 [==============================] - 0s 5ms/step - loss: 0.3228 - accuracy: 0.8822 - val_loss: 0.3952 - val_accuracy: 0.8174\n",
            "Epoch 203/300\n",
            "11/11 [==============================] - 0s 6ms/step - loss: 0.2961 - accuracy: 0.8918 - val_loss: 0.3894 - val_accuracy: 0.8242\n",
            "Epoch 204/300\n",
            "11/11 [==============================] - 0s 5ms/step - loss: 0.3249 - accuracy: 0.8693 - val_loss: 0.3860 - val_accuracy: 0.8311\n",
            "Epoch 205/300\n",
            "11/11 [==============================] - 0s 5ms/step - loss: 0.3331 - accuracy: 0.8617 - val_loss: 0.3849 - val_accuracy: 0.8539\n",
            "Epoch 206/300\n",
            "11/11 [==============================] - 0s 5ms/step - loss: 0.3178 - accuracy: 0.9316 - val_loss: 0.3837 - val_accuracy: 0.8265\n",
            "Epoch 207/300\n",
            "11/11 [==============================] - 0s 5ms/step - loss: 0.3132 - accuracy: 0.8972 - val_loss: 0.3836 - val_accuracy: 0.8174\n",
            "Epoch 208/300\n",
            "11/11 [==============================] - 0s 5ms/step - loss: 0.3515 - accuracy: 0.8541 - val_loss: 0.3783 - val_accuracy: 0.8288\n",
            "Epoch 209/300\n",
            "11/11 [==============================] - 0s 5ms/step - loss: 0.3189 - accuracy: 0.8606 - val_loss: 0.3767 - val_accuracy: 0.8584\n",
            "Epoch 210/300\n",
            "11/11 [==============================] - 0s 5ms/step - loss: 0.3055 - accuracy: 0.8817 - val_loss: 0.3797 - val_accuracy: 0.8196\n",
            "Epoch 211/300\n",
            "11/11 [==============================] - 0s 5ms/step - loss: 0.3309 - accuracy: 0.8639 - val_loss: 0.3731 - val_accuracy: 0.8311\n",
            "Epoch 212/300\n",
            "11/11 [==============================] - 0s 5ms/step - loss: 0.3130 - accuracy: 0.8535 - val_loss: 0.3692 - val_accuracy: 0.8447\n",
            "Epoch 213/300\n",
            "11/11 [==============================] - 0s 6ms/step - loss: 0.2812 - accuracy: 0.8961 - val_loss: 0.3665 - val_accuracy: 0.8630\n",
            "Epoch 214/300\n",
            "11/11 [==============================] - 0s 5ms/step - loss: 0.3178 - accuracy: 0.8889 - val_loss: 0.3660 - val_accuracy: 0.8402\n",
            "Epoch 215/300\n",
            "11/11 [==============================] - 0s 5ms/step - loss: 0.3065 - accuracy: 0.8556 - val_loss: 0.3659 - val_accuracy: 0.8333\n",
            "Epoch 216/300\n",
            "11/11 [==============================] - 0s 5ms/step - loss: 0.2889 - accuracy: 0.9215 - val_loss: 0.3636 - val_accuracy: 0.8744\n",
            "Epoch 217/300\n",
            "11/11 [==============================] - 0s 5ms/step - loss: 0.2884 - accuracy: 0.8768 - val_loss: 0.3585 - val_accuracy: 0.8402\n",
            "Epoch 218/300\n",
            "11/11 [==============================] - 0s 5ms/step - loss: 0.3002 - accuracy: 0.9046 - val_loss: 0.3535 - val_accuracy: 0.8676\n",
            "Epoch 219/300\n",
            "11/11 [==============================] - 0s 5ms/step - loss: 0.3120 - accuracy: 0.8721 - val_loss: 0.3573 - val_accuracy: 0.8402\n",
            "Epoch 220/300\n",
            "11/11 [==============================] - 0s 5ms/step - loss: 0.2843 - accuracy: 0.8845 - val_loss: 0.3540 - val_accuracy: 0.8653\n",
            "Epoch 221/300\n",
            "11/11 [==============================] - 0s 6ms/step - loss: 0.2597 - accuracy: 0.9400 - val_loss: 0.3553 - val_accuracy: 0.8402\n",
            "Epoch 222/300\n",
            "11/11 [==============================] - 0s 6ms/step - loss: 0.2996 - accuracy: 0.8916 - val_loss: 0.3461 - val_accuracy: 0.8653\n",
            "Epoch 223/300\n",
            "11/11 [==============================] - 0s 5ms/step - loss: 0.2945 - accuracy: 0.8788 - val_loss: 0.3442 - val_accuracy: 0.8904\n",
            "Epoch 224/300\n",
            "11/11 [==============================] - 0s 5ms/step - loss: 0.2731 - accuracy: 0.9314 - val_loss: 0.3489 - val_accuracy: 0.8379\n",
            "Epoch 225/300\n",
            "11/11 [==============================] - 0s 5ms/step - loss: 0.2725 - accuracy: 0.9048 - val_loss: 0.3460 - val_accuracy: 0.9110\n",
            "Epoch 226/300\n",
            "11/11 [==============================] - 0s 5ms/step - loss: 0.2645 - accuracy: 0.9476 - val_loss: 0.3432 - val_accuracy: 0.8493\n",
            "Epoch 227/300\n",
            "11/11 [==============================] - 0s 5ms/step - loss: 0.2689 - accuracy: 0.8665 - val_loss: 0.3385 - val_accuracy: 0.8927\n",
            "Epoch 228/300\n",
            "11/11 [==============================] - 0s 5ms/step - loss: 0.2619 - accuracy: 0.9494 - val_loss: 0.3362 - val_accuracy: 0.8676\n",
            "Epoch 229/300\n",
            "11/11 [==============================] - 0s 5ms/step - loss: 0.2777 - accuracy: 0.8885 - val_loss: 0.3318 - val_accuracy: 0.8904\n",
            "Epoch 230/300\n",
            "11/11 [==============================] - 0s 5ms/step - loss: 0.2627 - accuracy: 0.9463 - val_loss: 0.3375 - val_accuracy: 0.8493\n",
            "Epoch 231/300\n",
            "11/11 [==============================] - 0s 5ms/step - loss: 0.2623 - accuracy: 0.8865 - val_loss: 0.3306 - val_accuracy: 0.9041\n",
            "Epoch 232/300\n",
            "11/11 [==============================] - 0s 5ms/step - loss: 0.2633 - accuracy: 0.9647 - val_loss: 0.3277 - val_accuracy: 0.8904\n",
            "Epoch 233/300\n",
            "11/11 [==============================] - 0s 5ms/step - loss: 0.2814 - accuracy: 0.9328 - val_loss: 0.3305 - val_accuracy: 0.8630\n",
            "Epoch 234/300\n",
            "11/11 [==============================] - 0s 6ms/step - loss: 0.3023 - accuracy: 0.8798 - val_loss: 0.3239 - val_accuracy: 0.9110\n",
            "Epoch 235/300\n",
            "11/11 [==============================] - 0s 5ms/step - loss: 0.2510 - accuracy: 0.9422 - val_loss: 0.3297 - val_accuracy: 0.8493\n",
            "Epoch 236/300\n",
            "11/11 [==============================] - 0s 6ms/step - loss: 0.2414 - accuracy: 0.9205 - val_loss: 0.3218 - val_accuracy: 0.9201\n",
            "Epoch 237/300\n",
            "11/11 [==============================] - 0s 6ms/step - loss: 0.2702 - accuracy: 0.9480 - val_loss: 0.3224 - val_accuracy: 0.8630\n",
            "Epoch 238/300\n",
            "11/11 [==============================] - 0s 6ms/step - loss: 0.2801 - accuracy: 0.8849 - val_loss: 0.3163 - val_accuracy: 0.8904\n",
            "Epoch 239/300\n",
            "11/11 [==============================] - 0s 5ms/step - loss: 0.2720 - accuracy: 0.9262 - val_loss: 0.3157 - val_accuracy: 0.8904\n",
            "Epoch 240/300\n",
            "11/11 [==============================] - 0s 5ms/step - loss: 0.2547 - accuracy: 0.9240 - val_loss: 0.3143 - val_accuracy: 0.9110\n",
            "Epoch 241/300\n",
            "11/11 [==============================] - 0s 5ms/step - loss: 0.2551 - accuracy: 0.9471 - val_loss: 0.3137 - val_accuracy: 0.8836\n",
            "Epoch 242/300\n",
            "11/11 [==============================] - 0s 5ms/step - loss: 0.2471 - accuracy: 0.9150 - val_loss: 0.3158 - val_accuracy: 0.9224\n",
            "Epoch 243/300\n",
            "11/11 [==============================] - 0s 5ms/step - loss: 0.2295 - accuracy: 0.9653 - val_loss: 0.3108 - val_accuracy: 0.8676\n",
            "Epoch 244/300\n",
            "11/11 [==============================] - 0s 6ms/step - loss: 0.2481 - accuracy: 0.8992 - val_loss: 0.3053 - val_accuracy: 0.8927\n",
            "Epoch 245/300\n",
            "11/11 [==============================] - 0s 6ms/step - loss: 0.2282 - accuracy: 0.9432 - val_loss: 0.3076 - val_accuracy: 0.8973\n",
            "Epoch 246/300\n",
            "11/11 [==============================] - 0s 5ms/step - loss: 0.2557 - accuracy: 0.9262 - val_loss: 0.3028 - val_accuracy: 0.8973\n",
            "Epoch 247/300\n",
            "11/11 [==============================] - 0s 6ms/step - loss: 0.2568 - accuracy: 0.9225 - val_loss: 0.3122 - val_accuracy: 0.8562\n",
            "Epoch 248/300\n",
            "11/11 [==============================] - 0s 7ms/step - loss: 0.2434 - accuracy: 0.8743 - val_loss: 0.3002 - val_accuracy: 0.9224\n",
            "Epoch 249/300\n",
            "11/11 [==============================] - 0s 6ms/step - loss: 0.2638 - accuracy: 0.9360 - val_loss: 0.3006 - val_accuracy: 0.8950\n",
            "Epoch 250/300\n",
            "11/11 [==============================] - 0s 5ms/step - loss: 0.2530 - accuracy: 0.8983 - val_loss: 0.2991 - val_accuracy: 0.9315\n",
            "Epoch 251/300\n",
            "11/11 [==============================] - 0s 5ms/step - loss: 0.2400 - accuracy: 0.9588 - val_loss: 0.2985 - val_accuracy: 0.8836\n",
            "Epoch 252/300\n",
            "11/11 [==============================] - 0s 5ms/step - loss: 0.2456 - accuracy: 0.9260 - val_loss: 0.2933 - val_accuracy: 0.9132\n",
            "Epoch 253/300\n",
            "11/11 [==============================] - 0s 5ms/step - loss: 0.2147 - accuracy: 0.9474 - val_loss: 0.2941 - val_accuracy: 0.8950\n",
            "Epoch 254/300\n",
            "11/11 [==============================] - 0s 6ms/step - loss: 0.2394 - accuracy: 0.9335 - val_loss: 0.2909 - val_accuracy: 0.8973\n",
            "Epoch 255/300\n",
            "11/11 [==============================] - 0s 5ms/step - loss: 0.2224 - accuracy: 0.9499 - val_loss: 0.2891 - val_accuracy: 0.9155\n",
            "Epoch 256/300\n",
            "11/11 [==============================] - 0s 5ms/step - loss: 0.2196 - accuracy: 0.9459 - val_loss: 0.2905 - val_accuracy: 0.8881\n",
            "Epoch 257/300\n",
            "11/11 [==============================] - 0s 6ms/step - loss: 0.2159 - accuracy: 0.9363 - val_loss: 0.2874 - val_accuracy: 0.9178\n",
            "Epoch 258/300\n",
            "11/11 [==============================] - 0s 5ms/step - loss: 0.2535 - accuracy: 0.9172 - val_loss: 0.2870 - val_accuracy: 0.8927\n",
            "Epoch 259/300\n",
            "11/11 [==============================] - 0s 5ms/step - loss: 0.2261 - accuracy: 0.9483 - val_loss: 0.2864 - val_accuracy: 0.9361\n",
            "Epoch 260/300\n",
            "11/11 [==============================] - 0s 5ms/step - loss: 0.2265 - accuracy: 0.9581 - val_loss: 0.2850 - val_accuracy: 0.8927\n",
            "Epoch 261/300\n",
            "11/11 [==============================] - 0s 6ms/step - loss: 0.2119 - accuracy: 0.9401 - val_loss: 0.2817 - val_accuracy: 0.9361\n",
            "Epoch 262/300\n",
            "11/11 [==============================] - 0s 6ms/step - loss: 0.2334 - accuracy: 0.9406 - val_loss: 0.2796 - val_accuracy: 0.8950\n",
            "Epoch 263/300\n",
            "11/11 [==============================] - 0s 6ms/step - loss: 0.2234 - accuracy: 0.9266 - val_loss: 0.2806 - val_accuracy: 0.9132\n",
            "Epoch 264/300\n",
            "11/11 [==============================] - 0s 5ms/step - loss: 0.2105 - accuracy: 0.9514 - val_loss: 0.2804 - val_accuracy: 0.9110\n",
            "Epoch 265/300\n",
            "11/11 [==============================] - 0s 6ms/step - loss: 0.1932 - accuracy: 0.9632 - val_loss: 0.2758 - val_accuracy: 0.9155\n",
            "Epoch 266/300\n",
            "11/11 [==============================] - 0s 6ms/step - loss: 0.1997 - accuracy: 0.9525 - val_loss: 0.2737 - val_accuracy: 0.9361\n",
            "Epoch 267/300\n",
            "11/11 [==============================] - 0s 5ms/step - loss: 0.2182 - accuracy: 0.9722 - val_loss: 0.2800 - val_accuracy: 0.8836\n",
            "Epoch 268/300\n",
            "11/11 [==============================] - 0s 5ms/step - loss: 0.2287 - accuracy: 0.9656 - val_loss: 0.2710 - val_accuracy: 0.9178\n",
            "Epoch 269/300\n",
            "11/11 [==============================] - 0s 5ms/step - loss: 0.2046 - accuracy: 0.9409 - val_loss: 0.2699 - val_accuracy: 0.9178\n",
            "Epoch 270/300\n",
            "11/11 [==============================] - 0s 5ms/step - loss: 0.2186 - accuracy: 0.9703 - val_loss: 0.2737 - val_accuracy: 0.8904\n",
            "Epoch 271/300\n",
            "11/11 [==============================] - 0s 5ms/step - loss: 0.2137 - accuracy: 0.9340 - val_loss: 0.2678 - val_accuracy: 0.9201\n",
            "Epoch 272/300\n",
            "11/11 [==============================] - 0s 5ms/step - loss: 0.1954 - accuracy: 0.9502 - val_loss: 0.2659 - val_accuracy: 0.9155\n",
            "Epoch 273/300\n",
            "11/11 [==============================] - 0s 6ms/step - loss: 0.2083 - accuracy: 0.9486 - val_loss: 0.2664 - val_accuracy: 0.9247\n",
            "Epoch 274/300\n",
            "11/11 [==============================] - 0s 5ms/step - loss: 0.1858 - accuracy: 0.9678 - val_loss: 0.2649 - val_accuracy: 0.9110\n",
            "Epoch 275/300\n",
            "11/11 [==============================] - 0s 6ms/step - loss: 0.1982 - accuracy: 0.9768 - val_loss: 0.2629 - val_accuracy: 0.9178\n",
            "Epoch 276/300\n",
            "11/11 [==============================] - 0s 6ms/step - loss: 0.1966 - accuracy: 0.9515 - val_loss: 0.2611 - val_accuracy: 0.9201\n",
            "Epoch 277/300\n",
            "11/11 [==============================] - 0s 6ms/step - loss: 0.1953 - accuracy: 0.9607 - val_loss: 0.2626 - val_accuracy: 0.9338\n",
            "Epoch 278/300\n",
            "11/11 [==============================] - 0s 6ms/step - loss: 0.2081 - accuracy: 0.9450 - val_loss: 0.2654 - val_accuracy: 0.8950\n",
            "Epoch 279/300\n",
            "11/11 [==============================] - 0s 5ms/step - loss: 0.2196 - accuracy: 0.9259 - val_loss: 0.2574 - val_accuracy: 0.9406\n",
            "Epoch 280/300\n",
            "11/11 [==============================] - 0s 5ms/step - loss: 0.2146 - accuracy: 0.9643 - val_loss: 0.2585 - val_accuracy: 0.9155\n",
            "Epoch 281/300\n",
            "11/11 [==============================] - 0s 6ms/step - loss: 0.2158 - accuracy: 0.9493 - val_loss: 0.2671 - val_accuracy: 0.8858\n",
            "Epoch 282/300\n",
            "11/11 [==============================] - 0s 6ms/step - loss: 0.1897 - accuracy: 0.9303 - val_loss: 0.2601 - val_accuracy: 0.9429\n",
            "Epoch 283/300\n",
            "11/11 [==============================] - 0s 5ms/step - loss: 0.1756 - accuracy: 0.9734 - val_loss: 0.2604 - val_accuracy: 0.8927\n",
            "Epoch 284/300\n",
            "11/11 [==============================] - 0s 6ms/step - loss: 0.1892 - accuracy: 0.9421 - val_loss: 0.2526 - val_accuracy: 0.9406\n",
            "Epoch 285/300\n",
            "11/11 [==============================] - 0s 6ms/step - loss: 0.1909 - accuracy: 0.9690 - val_loss: 0.2694 - val_accuracy: 0.8813\n",
            "Epoch 286/300\n",
            "11/11 [==============================] - 0s 5ms/step - loss: 0.1891 - accuracy: 0.9239 - val_loss: 0.2532 - val_accuracy: 0.9361\n",
            "Epoch 287/300\n",
            "11/11 [==============================] - 0s 6ms/step - loss: 0.1862 - accuracy: 0.9768 - val_loss: 0.2553 - val_accuracy: 0.8973\n",
            "Epoch 288/300\n",
            "11/11 [==============================] - 0s 5ms/step - loss: 0.1855 - accuracy: 0.9465 - val_loss: 0.2511 - val_accuracy: 0.9361\n",
            "Epoch 289/300\n",
            "11/11 [==============================] - 0s 6ms/step - loss: 0.2045 - accuracy: 0.9544 - val_loss: 0.2474 - val_accuracy: 0.9247\n",
            "Epoch 290/300\n",
            "11/11 [==============================] - 0s 6ms/step - loss: 0.1936 - accuracy: 0.9450 - val_loss: 0.2484 - val_accuracy: 0.9178\n",
            "Epoch 291/300\n",
            "11/11 [==============================] - 0s 5ms/step - loss: 0.2027 - accuracy: 0.9425 - val_loss: 0.2476 - val_accuracy: 0.9247\n",
            "Epoch 292/300\n",
            "11/11 [==============================] - 0s 6ms/step - loss: 0.1857 - accuracy: 0.9437 - val_loss: 0.2487 - val_accuracy: 0.9452\n",
            "Epoch 293/300\n",
            "11/11 [==============================] - 0s 5ms/step - loss: 0.1946 - accuracy: 0.9797 - val_loss: 0.2449 - val_accuracy: 0.9201\n",
            "Epoch 294/300\n",
            "11/11 [==============================] - 0s 6ms/step - loss: 0.1785 - accuracy: 0.9399 - val_loss: 0.2440 - val_accuracy: 0.9361\n",
            "Epoch 295/300\n",
            "11/11 [==============================] - 0s 5ms/step - loss: 0.1801 - accuracy: 0.9605 - val_loss: 0.2430 - val_accuracy: 0.9224\n",
            "Epoch 296/300\n",
            "11/11 [==============================] - 0s 5ms/step - loss: 0.1700 - accuracy: 0.9547 - val_loss: 0.2423 - val_accuracy: 0.9338\n",
            "Epoch 297/300\n",
            "11/11 [==============================] - 0s 5ms/step - loss: 0.1959 - accuracy: 0.9538 - val_loss: 0.2421 - val_accuracy: 0.9178\n",
            "Epoch 298/300\n",
            "11/11 [==============================] - 0s 5ms/step - loss: 0.1944 - accuracy: 0.9670 - val_loss: 0.2399 - val_accuracy: 0.9338\n",
            "Epoch 299/300\n",
            "11/11 [==============================] - 0s 5ms/step - loss: 0.1652 - accuracy: 0.9574 - val_loss: 0.2402 - val_accuracy: 0.9384\n",
            "Epoch 300/300\n",
            "11/11 [==============================] - 0s 5ms/step - loss: 0.1640 - accuracy: 0.9720 - val_loss: 0.2423 - val_accuracy: 0.9132\n"
          ],
          "name": "stdout"
        }
      ]
    },
    {
      "cell_type": "code",
      "metadata": {
        "colab": {
          "base_uri": "https://localhost:8080/",
          "height": 295
        },
        "id": "TM1mukeIj49K",
        "outputId": "5ca0e43a-1999-4c73-fff4-c59ed17a0e34"
      },
      "source": [
        "import matplotlib.pyplot as plt\n",
        "plt.plot(history.history['accuracy'])\n",
        "plt.plot(history.history['val_accuracy'])\n",
        "plt.title('Model accuracy')\n",
        "plt.ylabel('Accuracy')\n",
        "plt.xlabel('Epoch')\n",
        "plt.legend(['Train', 'Test'], loc='upper left')\n",
        "plt.show()"
      ],
      "execution_count": null,
      "outputs": [
        {
          "output_type": "display_data",
          "data": {
            "image/png": "[encoded data removed]",
            "text/plain": [
              "<Figure size 432x288 with 1 Axes>"
            ]
          },
          "metadata": {
            "tags": [],
            "needs_background": "light"
          }
        }
      ]
    },
    {
      "cell_type": "code",
      "metadata": {
        "colab": {
          "base_uri": "https://localhost:8080/",
          "height": 295
        },
        "id": "l06M1ao8kGl8",
        "outputId": "db157752-add8-4aa7-c98c-d16438d54832"
      },
      "source": [
        "plt.plot(history.history['loss']) \n",
        "plt.plot(history.history['val_loss']) \n",
        "plt.title('Model loss') \n",
        "plt.ylabel('Loss') \n",
        "plt.xlabel('Epoch') \n",
        "plt.legend(['Train', 'Test'], loc='upper left') \n",
        "plt.show()"
      ],
      "execution_count": null,
      "outputs": [
        {
          "output_type": "display_data",
          "data": {
            "image/png": "[encoded data removed]",
            "text/plain": [
              "<Figure size 432x288 with 1 Axes>"
            ]
          },
          "metadata": {
            "tags": [],
            "needs_background": "light"
          }
        }
      ]
    },
    {
      "cell_type": "markdown",
      "metadata": {
        "id": "h8hKzecpkzCi"
      },
      "source": [
        "**Evaluate**"
      ]
    },
    {
      "cell_type": "code",
      "metadata": {
        "id": "wyVX3aeIk2Ke"
      },
      "source": [
        "# evaluate the model\n",
        "# scores = nn.evaluate(X, y, verbose=0)\n",
        "# print(\"%s: %.2f%%\" % (nn.metrics_names[1], scores[1]*100))"
      ],
      "execution_count": null,
      "outputs": []
    },
    {
      "cell_type": "code",
      "metadata": {
        "id": "6_C1zLxP-Zm0"
      },
      "source": [
        "from sklearn.metrics import accuracy_score\n",
        "from sklearn.metrics import precision_score\n",
        "from sklearn.metrics import recall_score\n",
        "from sklearn.metrics import f1_score\n",
        "from sklearn.metrics import cohen_kappa_score\n",
        "from sklearn.metrics import roc_auc_score\n",
        "from sklearn.metrics import confusion_matrix\n",
        "from sklearn.metrics import accuracy_score\n",
        "from sklearn.metrics import classification_report"
      ],
      "execution_count": null,
      "outputs": []
    },
    {
      "cell_type": "markdown",
      "metadata": {
        "id": "MGepAHPz-lk0"
      },
      "source": [
        "**F1-Score**"
      ]
    },
    {
      "cell_type": "code",
      "metadata": {
        "id": "ERjiR6Wa-dLo"
      },
      "source": [
        "# predict probabilities for test set\n",
        "#y_pred = nn.predict(X_val)\n",
        "y_test_arg=np.argmax(y_test,axis=1)\n",
        "Y_pred = np.argmax(nn.predict(X_test),axis=1)"
      ],
      "execution_count": null,
      "outputs": []
    },
    {
      "cell_type": "code",
      "metadata": {
        "colab": {
          "base_uri": "https://localhost:8080/"
        },
        "id": "86R-gvlL-fa7",
        "outputId": "c3948fc0-cf21-4677-fc0c-2b35fb6994c2"
      },
      "source": [
        "print(\"F1-Score : %.2f\" % f1_score(y_test_arg, Y_pred, average=\"micro\"))\n",
        "print(\"Precision : %.2f\" % precision_score(y_test_arg, Y_pred, average=\"micro\"))"
      ],
      "execution_count": null,
      "outputs": [
        {
          "output_type": "stream",
          "text": [
            "F1-Score : 0.97\n",
            "Precision : 0.97\n"
          ],
          "name": "stdout"
        }
      ]
    },
    {
      "cell_type": "code",
      "metadata": {
        "colab": {
          "base_uri": "https://localhost:8080/"
        },
        "id": "V0eRSkz9-g8j",
        "outputId": "a640d658-524e-4482-bb7e-8c09642214fc"
      },
      "source": [
        "print('Confusion Matrix')\n",
        "print(confusion_matrix(y_test_arg, Y_pred))\n",
        "print(classification_report(y_test_arg, Y_pred))\n"
      ],
      "execution_count": null,
      "outputs": [
        {
          "output_type": "stream",
          "text": [
            "Confusion Matrix\n",
            "[[ 35   0   0]\n",
            " [  4  68   4]\n",
            " [  1   0 171]]\n",
            "              precision    recall  f1-score   support\n",
            "\n",
            "           0       0.88      1.00      0.93        35\n",
            "           1       1.00      0.89      0.94        76\n",
            "           2       0.98      0.99      0.99       172\n",
            "\n",
            "    accuracy                           0.97       283\n",
            "   macro avg       0.95      0.96      0.95       283\n",
            "weighted avg       0.97      0.97      0.97       283\n",
            "\n"
          ],
          "name": "stdout"
        }
      ]
    },
    {
      "cell_type": "code",
      "metadata": {
        "id": "yjqpi5-ukPSy"
      },
      "source": [
        "#ditambah F-Score"
      ],
      "execution_count": null,
      "outputs": []
    },
    {
      "cell_type": "markdown",
      "metadata": {
        "id": "ugUosQ7s-t2D"
      },
      "source": [
        "**SIMPAN MODEL**"
      ]
    },
    {
      "cell_type": "code",
      "metadata": {
        "colab": {
          "base_uri": "https://localhost:8080/"
        },
        "id": "jn67dHnoMyd0",
        "outputId": "c8cf1a96-7f65-499e-a9de-9bca9688c32d"
      },
      "source": [
        "!pip install tensorflowjs"
      ],
      "execution_count": null,
      "outputs": [
        {
          "output_type": "stream",
          "text": [
            "Requirement already satisfied: tensorflowjs in /usr/local/lib/python3.7/dist-packages (3.6.0)\n",
            "Requirement already satisfied: six<2,>=1.12.0 in /usr/local/lib/python3.7/dist-packages (from tensorflowjs) (1.15.0)\n",
            "Requirement already satisfied: tensorflow-hub<0.10,>=0.7.0 in /usr/local/lib/python3.7/dist-packages (from tensorflowjs) (0.9.0)\n",
            "Requirement already satisfied: tensorflow<3,>=2.1.0 in /usr/local/lib/python3.7/dist-packages (from tensorflowjs) (2.4.1)\n",
            "Requirement already satisfied: numpy>=1.12.0 in /usr/local/lib/python3.7/dist-packages (from tensorflow-hub<0.10,>=0.7.0->tensorflowjs) (1.19.5)\n",
            "Requirement already satisfied: protobuf>=3.8.0 in /usr/local/lib/python3.7/dist-packages (from tensorflow-hub<0.10,>=0.7.0->tensorflowjs) (3.12.4)\n",
            "Requirement already satisfied: absl-py~=0.10 in /usr/local/lib/python3.7/dist-packages (from tensorflow<3,>=2.1.0->tensorflowjs) (0.12.0)\n",
            "Requirement already satisfied: tensorflow-estimator<2.5.0,>=2.4.0 in /usr/local/lib/python3.7/dist-packages (from tensorflow<3,>=2.1.0->tensorflowjs) (2.4.0)\n",
            "Requirement already satisfied: h5py~=2.10.0 in /usr/local/lib/python3.7/dist-packages (from tensorflow<3,>=2.1.0->tensorflowjs) (2.10.0)\n",
            "Requirement already satisfied: termcolor~=1.1.0 in /usr/local/lib/python3.7/dist-packages (from tensorflow<3,>=2.1.0->tensorflowjs) (1.1.0)\n",
            "Requirement already satisfied: opt-einsum~=3.3.0 in /usr/local/lib/python3.7/dist-packages (from tensorflow<3,>=2.1.0->tensorflowjs) (3.3.0)\n",
            "Requirement already satisfied: gast==0.3.3 in /usr/local/lib/python3.7/dist-packages (from tensorflow<3,>=2.1.0->tensorflowjs) (0.3.3)\n",
            "Requirement already satisfied: tensorboard~=2.4 in /usr/local/lib/python3.7/dist-packages (from tensorflow<3,>=2.1.0->tensorflowjs) (2.4.1)\n",
            "Requirement already satisfied: grpcio~=1.32.0 in /usr/local/lib/python3.7/dist-packages (from tensorflow<3,>=2.1.0->tensorflowjs) (1.32.0)\n",
            "Requirement already satisfied: astunparse~=1.6.3 in /usr/local/lib/python3.7/dist-packages (from tensorflow<3,>=2.1.0->tensorflowjs) (1.6.3)\n",
            "Requirement already satisfied: google-pasta~=0.2 in /usr/local/lib/python3.7/dist-packages (from tensorflow<3,>=2.1.0->tensorflowjs) (0.2.0)\n",
            "Requirement already satisfied: keras-preprocessing~=1.1.2 in /usr/local/lib/python3.7/dist-packages (from tensorflow<3,>=2.1.0->tensorflowjs) (1.1.2)\n",
            "Requirement already satisfied: flatbuffers~=1.12.0 in /usr/local/lib/python3.7/dist-packages (from tensorflow<3,>=2.1.0->tensorflowjs) (1.12)\n",
            "Requirement already satisfied: wrapt~=1.12.1 in /usr/local/lib/python3.7/dist-packages (from tensorflow<3,>=2.1.0->tensorflowjs) (1.12.1)\n",
            "Requirement already satisfied: typing-extensions~=3.7.4 in /usr/local/lib/python3.7/dist-packages (from tensorflow<3,>=2.1.0->tensorflowjs) (3.7.4.3)\n",
            "Requirement already satisfied: wheel~=0.35 in /usr/local/lib/python3.7/dist-packages (from tensorflow<3,>=2.1.0->tensorflowjs) (0.36.2)\n",
            "Requirement already satisfied: setuptools in /usr/local/lib/python3.7/dist-packages (from protobuf>=3.8.0->tensorflow-hub<0.10,>=0.7.0->tensorflowjs) (56.1.0)\n",
            "Requirement already satisfied: requests<3,>=2.21.0 in /usr/local/lib/python3.7/dist-packages (from tensorboard~=2.4->tensorflow<3,>=2.1.0->tensorflowjs) (2.23.0)\n",
            "Requirement already satisfied: markdown>=2.6.8 in /usr/local/lib/python3.7/dist-packages (from tensorboard~=2.4->tensorflow<3,>=2.1.0->tensorflowjs) (3.3.4)\n",
            "Requirement already satisfied: werkzeug>=0.11.15 in /usr/local/lib/python3.7/dist-packages (from tensorboard~=2.4->tensorflow<3,>=2.1.0->tensorflowjs) (2.0.0)\n",
            "Requirement already satisfied: tensorboard-plugin-wit>=1.6.0 in /usr/local/lib/python3.7/dist-packages (from tensorboard~=2.4->tensorflow<3,>=2.1.0->tensorflowjs) (1.8.0)\n",
            "Requirement already satisfied: google-auth-oauthlib<0.5,>=0.4.1 in /usr/local/lib/python3.7/dist-packages (from tensorboard~=2.4->tensorflow<3,>=2.1.0->tensorflowjs) (0.4.4)\n",
            "Requirement already satisfied: google-auth<2,>=1.6.3 in /usr/local/lib/python3.7/dist-packages (from tensorboard~=2.4->tensorflow<3,>=2.1.0->tensorflowjs) (1.30.0)\n",
            "Requirement already satisfied: chardet<4,>=3.0.2 in /usr/local/lib/python3.7/dist-packages (from requests<3,>=2.21.0->tensorboard~=2.4->tensorflow<3,>=2.1.0->tensorflowjs) (3.0.4)\n",
            "Requirement already satisfied: certifi>=2017.4.17 in /usr/local/lib/python3.7/dist-packages (from requests<3,>=2.21.0->tensorboard~=2.4->tensorflow<3,>=2.1.0->tensorflowjs) (2020.12.5)\n",
            "Requirement already satisfied: idna<3,>=2.5 in /usr/local/lib/python3.7/dist-packages (from requests<3,>=2.21.0->tensorboard~=2.4->tensorflow<3,>=2.1.0->tensorflowjs) (2.10)\n",
            "Requirement already satisfied: urllib3!=1.25.0,!=1.25.1,<1.26,>=1.21.1 in /usr/local/lib/python3.7/dist-packages (from requests<3,>=2.21.0->tensorboard~=2.4->tensorflow<3,>=2.1.0->tensorflowjs) (1.24.3)\n",
            "Requirement already satisfied: importlib-metadata; python_version < \"3.8\" in /usr/local/lib/python3.7/dist-packages (from markdown>=2.6.8->tensorboard~=2.4->tensorflow<3,>=2.1.0->tensorflowjs) (4.0.1)\n",
            "Requirement already satisfied: requests-oauthlib>=0.7.0 in /usr/local/lib/python3.7/dist-packages (from google-auth-oauthlib<0.5,>=0.4.1->tensorboard~=2.4->tensorflow<3,>=2.1.0->tensorflowjs) (1.3.0)\n",
            "Requirement already satisfied: cachetools<5.0,>=2.0.0 in /usr/local/lib/python3.7/dist-packages (from google-auth<2,>=1.6.3->tensorboard~=2.4->tensorflow<3,>=2.1.0->tensorflowjs) (4.2.2)\n",
            "Requirement already satisfied: rsa<5,>=3.1.4; python_version >= \"3.6\" in /usr/local/lib/python3.7/dist-packages (from google-auth<2,>=1.6.3->tensorboard~=2.4->tensorflow<3,>=2.1.0->tensorflowjs) (4.7.2)\n",
            "Requirement already satisfied: pyasn1-modules>=0.2.1 in /usr/local/lib/python3.7/dist-packages (from google-auth<2,>=1.6.3->tensorboard~=2.4->tensorflow<3,>=2.1.0->tensorflowjs) (0.2.8)\n",
            "Requirement already satisfied: zipp>=0.5 in /usr/local/lib/python3.7/dist-packages (from importlib-metadata; python_version < \"3.8\"->markdown>=2.6.8->tensorboard~=2.4->tensorflow<3,>=2.1.0->tensorflowjs) (3.4.1)\n",
            "Requirement already satisfied: oauthlib>=3.0.0 in /usr/local/lib/python3.7/dist-packages (from requests-oauthlib>=0.7.0->google-auth-oauthlib<0.5,>=0.4.1->tensorboard~=2.4->tensorflow<3,>=2.1.0->tensorflowjs) (3.1.0)\n",
            "Requirement already satisfied: pyasn1>=0.1.3 in /usr/local/lib/python3.7/dist-packages (from rsa<5,>=3.1.4; python_version >= \"3.6\"->google-auth<2,>=1.6.3->tensorboard~=2.4->tensorflow<3,>=2.1.0->tensorflowjs) (0.4.8)\n"
          ],
          "name": "stdout"
        }
      ]
    },
    {
      "cell_type": "code",
      "metadata": {
        "id": "ZYkwgtBfN3br"
      },
      "source": [
        "import tensorflowjs as tfjs"
      ],
      "execution_count": null,
      "outputs": []
    },
    {
      "cell_type": "code",
      "metadata": {
        "id": "VFpI9v6gNXjT"
      },
      "source": [
        "tfjs.converters.save_keras_model(nn, 'models')"
      ],
      "execution_count": null,
      "outputs": []
    },
    {
      "cell_type": "code",
      "metadata": {
        "id": "WHCPmAlXwTif"
      },
      "source": [
        "# y_pred = nn.predict(X_test) #sklearn.metric f-one score / confusion  matrix \n",
        "# #w = nn.evaluate(X_test, y_test,verbose=1)\n",
        "# y_pred = pd.DataFrame.from_records(y_pred)\n",
        "# y_pred"
      ],
      "execution_count": null,
      "outputs": []
    },
    {
      "cell_type": "code",
      "metadata": {
        "id": "nZApBJOi5OJJ"
      },
      "source": [
        "#data_test = pd.read_csv('datamahasiswa_campur2-angka-test2.csv', delimiter=\";\") # to import the dataset into a variable"
      ],
      "execution_count": null,
      "outputs": []
    },
    {
      "cell_type": "code",
      "metadata": {
        "id": "H1DDzQ2s5Svo"
      },
      "source": [
        "#data_test"
      ],
      "execution_count": null,
      "outputs": []
    },
    {
      "cell_type": "code",
      "metadata": {
        "id": "dCtAQI7iAEUf"
      },
      "source": [
        "# data_test = data_test.to_numpy()\n",
        "# X_input = data_test[:, 0:8] # Which contains the features\n",
        "#y_pred = dataset[:, 8] # Which contains the target variable"
      ],
      "execution_count": null,
      "outputs": []
    },
    {
      "cell_type": "code",
      "metadata": {
        "id": "3GZ6th4JB_E8"
      },
      "source": [
        "#X_input"
      ],
      "execution_count": null,
      "outputs": []
    },
    {
      "cell_type": "code",
      "metadata": {
        "id": "PyjanY1RCGjK"
      },
      "source": [
        "# X_input = pd.DataFrame(data=X_input,  columns= ['NilaiIPK','NilaiIPS','JumlahSK','Keuangan',\n",
        "#                                                 'NilaiTesMasuk','SemesterBerjalan','Bekerja','DataAbsen'])"
      ],
      "execution_count": null,
      "outputs": []
    },
    {
      "cell_type": "code",
      "metadata": {
        "id": "3fGB1QuDDcvU"
      },
      "source": [
        "# X_input"
      ],
      "execution_count": null,
      "outputs": []
    },
    {
      "cell_type": "code",
      "metadata": {
        "id": "SJgruJlE_7sW"
      },
      "source": [
        "# X_input = z_score(X_input)\n",
        "\n",
        "# X_input"
      ],
      "execution_count": null,
      "outputs": []
    },
    {
      "cell_type": "code",
      "metadata": {
        "id": "Z7fDxLwH5Xpt"
      },
      "source": [
        "#data_test=np.array(data_test, dtype=np.float)\n",
        "# y_predt = nn.predict(np.array(X_input))\n",
        "# y_predt = pd.DataFrame.from_records(y_predt)"
      ],
      "execution_count": null,
      "outputs": []
    },
    {
      "cell_type": "code",
      "metadata": {
        "id": "pg_VD5IV5swE"
      },
      "source": [
        "# y_predt"
      ],
      "execution_count": null,
      "outputs": []
    }
  ]
}